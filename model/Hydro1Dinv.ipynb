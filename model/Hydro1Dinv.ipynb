{
 "metadata": {
  "name": "",
  "signature": "sha256:2b85436f91b336762ca8815b97cfd7d829aa13f89a32a2a561468d9beeeb6e30"
 },
 "nbformat": 3,
 "nbformat_minor": 0,
 "worksheets": [
  {
   "cells": [
    {
     "cell_type": "code",
     "collapsed": false,
     "input": [
      "from SimPEG import *\n",
      "import simpegEM as EM\n",
      "from simpegem1d import Utils1D\n",
      "%pylab inline"
     ],
     "language": "python",
     "metadata": {},
     "outputs": [
      {
       "output_type": "stream",
       "stream": "stdout",
       "text": [
        "Populating the interactive namespace from numpy and matplotlib\n"
       ]
      }
     ],
     "prompt_number": 1
    },
    {
     "cell_type": "code",
     "collapsed": false,
     "input": [
      "mesh = Utils.meshutils.readUBCTensorMesh('mesh.msh')\n",
      "sigma = Utils.meshutils.readUBCTensorModel('sigma.con', mesh)"
     ],
     "language": "python",
     "metadata": {},
     "outputs": [],
     "prompt_number": 2
    },
    {
     "cell_type": "code",
     "collapsed": false,
     "input": [
      "x1 = np.arange(30)*10 - 300.\n",
      "y1 = np.arange(30)*10 - 150.\n",
      "xyz1 = Utils.ndgrid(x1, y1, np.r_[0.])\n",
      "xc1 = -150\n",
      "yc1 = 0.\n",
      "r1 = np.sqrt((xyz1[:,0]-xc1)**2+(xyz1[:,1]-yc1)**2)"
     ],
     "language": "python",
     "metadata": {},
     "outputs": [],
     "prompt_number": 98
    },
    {
     "cell_type": "code",
     "collapsed": false,
     "input": [
      "dind = np.argmin(abs( xyz1[:,0]+150.)+abs( xyz1[:,1]+0.))"
     ],
     "language": "python",
     "metadata": {},
     "outputs": [],
     "prompt_number": 82
    },
    {
     "cell_type": "code",
     "collapsed": false,
     "input": [
      "dobs = np.load('../codes/bzobs.npy')\n",
      "Dobs = dobs.reshape((900, 31, 2), order='F')\n",
      "Dobs1 = Dobs[:,:,0]\n",
      "Dobs2 = Dobs[:,:,1]"
     ],
     "language": "python",
     "metadata": {},
     "outputs": [],
     "prompt_number": 3
    },
    {
     "cell_type": "code",
     "collapsed": false,
     "input": [
      "fig, ax = plt.subplots(1,2, figsize = (12, 5))\n",
      "ax[0].contourf(Dobs1)\n",
      "ax[1].contourf(Dobs2)"
     ],
     "language": "python",
     "metadata": {},
     "outputs": [
      {
       "metadata": {},
       "output_type": "pyout",
       "prompt_number": 4,
       "text": [
        "<matplotlib.contour.QuadContourSet instance at 0x000000000B554948>"
       ]
      },
      {
       "metadata": {},
       "output_type": "display_data",
       "png": "[encoded data removed]",
       "text": [
        "<matplotlib.figure.Figure at 0xa7a0198>"
       ]
      }
     ],
     "prompt_number": 4
    },
    {
     "cell_type": "code",
     "collapsed": false,
     "input": [
      "meshType = 'CYL'\n",
      "cs, ncx, ncz, npad = 20., 25, 30, 12\n",
      "hx = [(cs,ncx), (cs,npad,1.3)]\n",
      "hz = [(cs,npad,-1.4), (cs,ncz), (cs,npad,1.4)]\n",
      "mesh = Mesh.CylMesh([hx,1,hz], '00C')"
     ],
     "language": "python",
     "metadata": {},
     "outputs": [],
     "prompt_number": 5
    },
    {
     "cell_type": "code",
     "collapsed": false,
     "input": [
      "active = mesh.vectorCCz<0.\n",
      "layer1 = (mesh.vectorCCz<0.) & (mesh.vectorCCz>=-60.)\n",
      "layer2 = (mesh.vectorCCz<-60) & (mesh.vectorCCz>=-100.)\n",
      "layer3 = (mesh.vectorCCz<-100) & (mesh.vectorCCz>=-200.)\n",
      "actMap = Maps.ActiveCells(mesh, active, np.log(1e-8), nC=mesh.nCz)\n",
      "mapping = Maps.ExpMap(mesh) * Maps.Vertical1DMap(mesh) * actMap"
     ],
     "language": "python",
     "metadata": {},
     "outputs": [],
     "prompt_number": 28
    },
    {
     "cell_type": "code",
     "collapsed": false,
     "input": [
      "sig_half = 1e-3\n",
      "sig_air = 1e-8\n",
      "sig_layer1 = 1./300\n",
      "sig_layer2 = 1./100\n",
      "sig_layer3 = 1./10\n",
      "sigma = np.ones(mesh.nCz)*sig_air\n",
      "sigma[active] = sig_half\n",
      "sigma[layer1] = sig_layer1\n",
      "sigma[layer2] = sig_layer2\n",
      "sigma[layer3] = sig_layer3\n",
      "mtrue = np.log(sigma[active])"
     ],
     "language": "python",
     "metadata": {},
     "outputs": [],
     "prompt_number": 29
    },
    {
     "cell_type": "code",
     "collapsed": false,
     "input": [
      "rxoffset=r1[dind]\n",
      "time = np.logspace(-4, -2, 31)\n",
      "rx = EM.TDEM.RxTDEM(np.array([[rxoffset, 0., 0.]]), np.logspace(-5,-3, 31), 'bz')\n",
      "tx = EM.TDEM.TxTDEM(np.array([0., 0., 0.]), 'CircularLoop_MVP', [rx])\n",
      "tx.radius = 250.\n",
      "survey = EM.TDEM.SurveyTDEM([tx])\n",
      "prb = EM.TDEM.ProblemTDEM_b(mesh, mapping=mapping, verbose=False)"
     ],
     "language": "python",
     "metadata": {},
     "outputs": [],
     "prompt_number": 99
    },
    {
     "cell_type": "code",
     "collapsed": false,
     "input": [
      "prb.Solver = SolverLU\n",
      "prb.timeSteps = [(1e-4/10, 15), (1e-3/10, 15), (1e-2/10, 15), (1e-1/10, 15)]\n",
      "if prb.ispaired:\n",
      "    prb.unpair()\n",
      "if survey.ispaired:\n",
      "    survey.unpair()\n",
      "prb.pair(survey)"
     ],
     "language": "python",
     "metadata": {},
     "outputs": [],
     "prompt_number": 89
    },
    {
     "cell_type": "code",
     "collapsed": false,
     "input": [
      "dtrue = survey.dpred(mtrue)"
     ],
     "language": "python",
     "metadata": {},
     "outputs": [],
     "prompt_number": 90
    },
    {
     "cell_type": "code",
     "collapsed": false,
     "input": [
      "survey.dtrue = dtrue\n",
      "std = 0.05\n",
      "noise = std*abs(survey.dtrue)*np.random.randn(*survey.dtrue.shape)\n",
      "# survey.dobs = survey.dtrue+noise\n",
      "survey.dobs = Dobs1[dind,:]\n",
      "survey.std = survey.dobs*0 + std\n",
      "survey.Wd = 1/(abs(survey.dobs)*std)"
     ],
     "language": "python",
     "metadata": {},
     "outputs": [],
     "prompt_number": 91
    },
    {
     "cell_type": "code",
     "collapsed": false,
     "input": [
      "dmisfit = DataMisfit.l2_DataMisfit(survey)\n",
      "regMesh = Mesh.TensorMesh([mesh.hz[mapping.maps[-1].indActive]])\n",
      "reg = Regularization.Tikhonov(regMesh)\n",
      "opt = Optimization.InexactGaussNewton(maxIter = 15)\n",
      "invProb = InvProblem.BaseInvProblem(dmisfit, reg, opt)\n",
      "# Create an inversion object\n",
      "beta = Directives.BetaSchedule(coolingFactor=5, coolingRate=2)\n",
      "betaest = Directives.BetaEstimate_ByEig(beta0_ratio=1e0)\n",
      "inv = Inversion.BaseInversion(invProb, directiveList=[beta,betaest])\n",
      "m0 = np.log(np.ones(mtrue.size)*2e-3)\n",
      "reg.alpha_s = 1e-2\n",
      "reg.alpha_x = 1.\n",
      "prb.counter = opt.counter = Utils.Counter()\n",
      "opt.LSshorten = 0.5\n",
      "opt.remember('xc')\n",
      "\n",
      "mopt = inv.run(m0)"
     ],
     "language": "python",
     "metadata": {},
     "outputs": [
      {
       "output_type": "stream",
       "stream": "stdout",
       "text": [
        "SimPEG.InvProblem will set Regularization.mref to m0.\n",
        "SimPEG.InvProblem is setting bfgsH0 to the inverse of the eval2Deriv.\n",
        "                    ***Done using same solver as the problem***\n",
        "SimPEG.l2_DataMisfit is creating default weightings for Wd."
       ]
      },
      {
       "output_type": "stream",
       "stream": "stdout",
       "text": [
        "\n",
        "============================ Inexact Gauss Newton ============================"
       ]
      },
      {
       "output_type": "stream",
       "stream": "stdout",
       "text": [
        "\n",
        "  #     beta     phi_d     phi_m       f      |proj(x-g)-x|  LS    Comment   \n",
        "-----------------------------------------------------------------------------\n",
        "   0  6.54e+03  3.84e+04  0.00e+00  3.84e+04    2.78e+04      0              "
       ]
      },
      {
       "output_type": "stream",
       "stream": "stdout",
       "text": [
        "\n",
        "   1  6.54e+03  1.03e+04  6.28e-01  1.45e+04    4.80e+03      0              "
       ]
      },
      {
       "output_type": "stream",
       "stream": "stdout",
       "text": [
        "\n",
        "   2  1.31e+03  7.67e+03  8.95e-01  8.84e+03    4.45e+03      0   Skip BFGS  "
       ]
      },
      {
       "output_type": "stream",
       "stream": "stdout",
       "text": [
        "\n",
        "   3  1.31e+03  3.44e+03  2.56e+00  6.79e+03    6.61e+02      0              "
       ]
      },
      {
       "output_type": "stream",
       "stream": "stdout",
       "text": [
        "\n",
        "   4  2.62e+02  3.96e+03  2.11e+00  4.52e+03    2.26e+03      0              "
       ]
      },
      {
       "output_type": "stream",
       "stream": "stdout",
       "text": [
        "\n",
        "   5  2.62e+02  1.94e+03  5.25e+00  3.31e+03    2.33e+02      0              "
       ]
      },
      {
       "output_type": "stream",
       "stream": "stdout",
       "text": [
        "\n",
        "   6  5.24e+01  1.94e+03  5.15e+00  2.21e+03    7.48e+02      1              "
       ]
      },
      {
       "output_type": "stream",
       "stream": "stdout",
       "text": [
        "\n",
        "   7  5.24e+01  1.52e+03  9.11e+00  1.99e+03    6.47e+02      1              "
       ]
      },
      {
       "output_type": "stream",
       "stream": "stdout",
       "text": [
        "\n",
        "   8  1.05e+01  1.27e+03  1.12e+01  1.39e+03    8.27e+02      1              "
       ]
      },
      {
       "output_type": "stream",
       "stream": "stdout",
       "text": [
        "\n",
        "   9  1.05e+01  1.23e+03  1.21e+01  1.36e+03    9.62e+02      3              "
       ]
      },
      {
       "output_type": "stream",
       "stream": "stdout",
       "text": [
        "\n",
        "  10  2.09e+00  9.78e+02  1.71e+01  1.01e+03    1.12e+03      2   Skip BFGS  "
       ]
      },
      {
       "output_type": "stream",
       "stream": "stdout",
       "text": [
        "\n",
        "  11  2.09e+00  9.64e+02  1.95e+01  1.00e+03    1.24e+03      4   Skip BFGS  "
       ]
      },
      {
       "output_type": "stream",
       "stream": "stdout",
       "text": [
        "\n",
        "  12  4.19e-01  8.56e+02  2.36e+01  8.66e+02    1.32e+03      3              "
       ]
      },
      {
       "output_type": "stream",
       "stream": "stdout",
       "text": [
        "\n",
        "  13  4.19e-01  8.17e+02  2.87e+01  8.29e+02    1.38e+03      4              "
       ]
      },
      {
       "output_type": "stream",
       "stream": "stdout",
       "text": [
        "\n",
        "  14  8.38e-02  7.46e+02  3.82e+01  7.49e+02    1.47e+03      3   Skip BFGS  "
       ]
      },
      {
       "output_type": "stream",
       "stream": "stdout",
       "text": [
        "\n",
        "  15  8.38e-02  6.16e+02  6.91e+01  6.22e+02    1.69e+03      1   Skip BFGS  "
       ]
      },
      {
       "output_type": "stream",
       "stream": "stdout",
       "text": [
        "\n",
        "------------------------- STOP! -------------------------\n",
        "1 : |fc-fOld| = 1.2690e+02 <= tolF*(1+|f0|) = 3.8355e+03\n",
        "1 : |xc-x_last| = 3.1960e+00 <= tolX*(1+|x0|) = 3.3292e+00\n",
        "0 : |proj(x-g)-x|    = 1.6869e+03 <= tolG          = 1.0000e-01\n",
        "0 : |proj(x-g)-x|    = 1.6869e+03 <= 1e3*eps       = 1.0000e-02\n",
        "1 : maxIter   =      15    <= iter          =     15\n",
        "------------------------- DONE! -------------------------\n"
       ]
      }
     ],
     "prompt_number": 93
    },
    {
     "cell_type": "code",
     "collapsed": false,
     "input": [
      "xc =  opt.recall('xc')"
     ],
     "language": "python",
     "metadata": {},
     "outputs": [],
     "prompt_number": 94
    },
    {
     "cell_type": "code",
     "collapsed": false,
     "input": [
      "plt.loglog(time, survey.dobs)\n",
      "plt.loglog(time, invProb.dpred)"
     ],
     "language": "python",
     "metadata": {},
     "outputs": [
      {
       "metadata": {},
       "output_type": "pyout",
       "prompt_number": 95,
       "text": [
        "[<matplotlib.lines.Line2D at 0x12ea7898>]"
       ]
      },
      {
       "metadata": {},
       "output_type": "display_data",
       "png": "[encoded data removed]",
       "text": [
        "<matplotlib.figure.Figure at 0x12e7b400>"
       ]
      }
     ],
     "prompt_number": 95
    },
    {
     "cell_type": "code",
     "collapsed": false,
     "input": [
      "iteration = 7\n",
      "fig, ax = plt.subplots(1,1, figsize = (3, 6))\n",
      "Utils1D.plotLayer(np.exp(xc[iteration]), mesh.vectorCCz[active], ax = ax)\n",
      "# Utils1D.plotLayer(np.exp(mtrue), mesh.vectorCCz[active], showlayers=True, ax = ax, **{'color':'r'})\n",
      "ax.set_ylim(-600., 0.)"
     ],
     "language": "python",
     "metadata": {},
     "outputs": [
      {
       "metadata": {},
       "output_type": "pyout",
       "prompt_number": 97,
       "text": [
        "(-600.0, 0.0)"
       ]
      },
      {
       "metadata": {},
       "output_type": "display_data",
       "png": "[encoded data removed]",
       "text": [
        "<matplotlib.figure.Figure at 0x120830b8>"
       ]
      }
     ],
     "prompt_number": 97
    },
    {
     "cell_type": "code",
     "collapsed": false,
     "input": [
      "plt.loglog(time, survey.dobs)\n",
      "plt.loglog(time, invProb.dpred)"
     ],
     "language": "python",
     "metadata": {},
     "outputs": [
      {
       "metadata": {},
       "output_type": "pyout",
       "prompt_number": 68,
       "text": [
        "[<matplotlib.lines.Line2D at 0x11aca4e0>]"
       ]
      },
      {
       "metadata": {},
       "output_type": "display_data",
       "png": "[encoded data removed]",
       "text": [
        "<matplotlib.figure.Figure at 0x11c7e908>"
       ]
      }
     ],
     "prompt_number": 68
    }
   ],
   "metadata": {}
  }
 ]
}