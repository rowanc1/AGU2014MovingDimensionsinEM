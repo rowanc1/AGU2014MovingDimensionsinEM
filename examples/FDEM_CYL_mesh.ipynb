{
 "metadata": {
  "name": "",
  "signature": "sha256:342ba66160302878bbd55fa1acc012d8950bc64d54f0795273e886ff08f84a06"
 },
 "nbformat": 3,
 "nbformat_minor": 0,
 "worksheets": [
  {
   "cells": [
    {
     "cell_type": "code",
     "collapsed": false,
     "input": [
      "from SimPEG import *\n",
      "import simpegEM as EM\n",
      "from simpegem1d import *\n",
      "from scipy.constants import mu_0\n",
      "%pylab inline"
     ],
     "language": "python",
     "metadata": {},
     "outputs": [
      {
       "output_type": "stream",
       "stream": "stdout",
       "text": [
        "Populating the interactive namespace from numpy and matplotlib\n"
       ]
      }
     ],
     "prompt_number": 30
    },
    {
     "cell_type": "code",
     "collapsed": false,
     "input": [
      "meshType = 'CYL'\n",
      "cs, ncx, ncz, npad = 10., 10, 5, 15\n",
      "hx = [(cs,ncx), (cs,npad,1.3)]\n",
      "hz = [(cs,npad,-1.3), (cs,ncz), (cs,npad,1.3)]\n",
      "mesh = Mesh.CylMesh([hx,1,hz], '00C')"
     ],
     "language": "python",
     "metadata": {},
     "outputs": [],
     "prompt_number": 239
    },
    {
     "cell_type": "code",
     "collapsed": false,
     "input": [
      "active = mesh.vectorCCz<0.\n",
      "layer1 = (mesh.vectorCCz<0.) & (mesh.vectorCCz>=-60.)\n",
      "layer2 = (mesh.vectorCCz<-60) & (mesh.vectorCCz>=-100.)\n",
      "layer3 = (mesh.vectorCCz<-100) & (mesh.vectorCCz>=-200.)\n",
      "actMap = Maps.ActiveCells(mesh, active, np.log(1e-8), nC=mesh.nCz)\n",
      "mapping = Maps.ExpMap(mesh) * Maps.Vertical1DMap(mesh) * actMap"
     ],
     "language": "python",
     "metadata": {},
     "outputs": [],
     "prompt_number": 240
    },
    {
     "cell_type": "code",
     "collapsed": false,
     "input": [
      "sig_half = 1e-3\n",
      "sigma = np.ones(mesh.nCz)*sig_air\n",
      "sigma[active] = sig_half\n",
      "mtrue = np.log(sigma[active])"
     ],
     "language": "python",
     "metadata": {},
     "outputs": [],
     "prompt_number": 241
    },
    {
     "cell_type": "code",
     "collapsed": false,
     "input": [
      "frequency = np.logspace(2, 5, 31)\n",
      "xyz_rx = np.r_[8., 0., 30.]\n",
      "rx1 = EM.FDEM.RxFDEM(xyz_rx.reshape([1,-1]), 'bzr') \n",
      "rx2 = EM.FDEM.RxFDEM(xyz_rx.reshape([1,-1]), 'bzi')\n",
      "txList = []\n",
      "for freq in frequency:    \n",
      "    tx = EM.FDEM.TxFDEM(np.array([0., 0., 30.]), 'VMD', freq, [rx1, rx2])\n",
      "    tx.radius = 100.\n",
      "    txList.append(tx)\n",
      "    \n",
      "survey = EM.FDEM.SurveyFDEM(txList)\n",
      "prb = EM.FDEM.ProblemFDEM_b(mesh, mapping=mapping, verbose=False)\n",
      "survey.pair(prb)"
     ],
     "language": "python",
     "metadata": {},
     "outputs": [],
     "prompt_number": 242
    },
    {
     "cell_type": "code",
     "collapsed": false,
     "input": [
      "Bz_simpeg = survey.dpred(mtrue)"
     ],
     "language": "python",
     "metadata": {},
     "outputs": [],
     "prompt_number": 243
    },
    {
     "cell_type": "code",
     "collapsed": false,
     "input": [
      "FDsurvey = BaseEM1D.EM1DSurveyFD()\n",
      "FDsurvey.rxLoc = np.array([0., 0., 30.])\n",
      "FDsurvey.txLoc = np.array([0., 0., 30.])\n",
      "FDsurvey.fieldtype = 'secondary'\n",
      "nearthick = np.logspace(-1, 1, 5)\n",
      "deepthick = np.logspace(1, 2, 10)\n",
      "hx = np.r_[nearthick, deepthick]\n",
      "mesh1D = Mesh.TensorMesh([hx], [0.])\n",
      "depth = -mesh1D.gridN[:-1]\n",
      "LocSigZ = -mesh1D.gridCC\n",
      "nlay = depth.size\n",
      "topo = np.r_[0., 0., 0.]\n",
      "FDsurvey.depth = depth\n",
      "FDsurvey.topo = topo\n",
      "FDsurvey.LocSigZ = LocSigZ\n",
      "FDsurvey.frequency = frequency\n",
      "FDsurvey.Nfreq = FDsurvey.frequency.size\n",
      "FDsurvey.Setup1Dsystem()        \n",
      "expmap = BaseEM1D.BaseEM1DMap(mesh1D)\n",
      "modelReal = expmap\n",
      "m_1D = np.log(np.ones(nlay)*sig_half)\n",
      "FDsurvey.rxType = 'Hz'\n",
      "FDsurvey.switchRI = 'all'\n",
      "WT0, WT1, YBASE = DigFilter.LoadWeights()\n",
      "options = {'WT0': WT0, 'WT1': WT1, 'YBASE': YBASE}\n",
      "prob = EM1D.EM1D(mesh1D, modelReal, **options)\n",
      "prob.pair(FDsurvey)\n",
      "prob.chi = np.zeros(FDsurvey.nlay)"
     ],
     "language": "python",
     "metadata": {},
     "outputs": [],
     "prompt_number": 244
    },
    {
     "cell_type": "code",
     "collapsed": false,
     "input": [
      "prob.CondType = 'Real'\n",
      "# prob.survey.txType = 'CircularLoop'\n",
      "# I = 1e0\n",
      "# a = 1e2\n",
      "# prob.survey.I = I\n",
      "# prob.survey.a = a\n",
      "prob.survey.txType = 'VMD'\n",
      "prob.survey.offset = 8\n",
      "Bz_anal = FDsurvey.dpred(m_1D)"
     ],
     "language": "python",
     "metadata": {},
     "outputs": [],
     "prompt_number": 245
    },
    {
     "cell_type": "code",
     "collapsed": false,
     "input": [
      "print Hz_anal"
     ],
     "language": "python",
     "metadata": {},
     "outputs": [
      {
       "output_type": "stream",
       "stream": "stdout",
       "text": [
        "[ -1.24388034e-16  -1.56040332e-16  -1.95703951e-16  -2.45392432e-16\n",
        "  -3.07620759e-16  -3.85528733e-16  -4.83034211e-16  -6.05023282e-16\n",
        "  -7.57586085e-16  -9.48308943e-16  -1.18663592e-15  -1.48431579e-15\n",
        "  -1.85595410e-15  -2.31969401e-15  -2.89805518e-15  -3.61896579e-15\n",
        "  -4.51703047e-15  -5.63508571e-15  -7.02610490e-15  -8.75552746e-15\n",
        "  -1.09041016e-14  -1.35713468e-14  -1.68797632e-14  -2.09799362e-14\n",
        "  -2.60567142e-14  -3.23366642e-14  -4.00970462e-14  -4.96765844e-14\n",
        "  -6.14883542e-14  -7.60351496e-14  -9.39277414e-14  -1.01343469e-14\n",
        "  -1.18037768e-14  -1.37471027e-14  -1.60089766e-14  -1.86412566e-14\n",
        "  -2.17041513e-14  -2.52675410e-14  -2.94125017e-14  -3.42330621e-14\n",
        "  -3.98382266e-14  -4.63543023e-14  -5.39275735e-14  -6.27273706e-14\n",
        "  -7.29495873e-14  -8.48207063e-14  -9.86023986e-14  -1.14596770e-13\n",
        "  -1.33152334e-13  -1.54670796e-13  -1.79614744e-13  -2.08516346e-13\n",
        "  -2.41987146e-13  -2.80729087e-13  -3.25546844e-13  -3.77361596e-13\n",
        "  -4.37226313e-13  -5.06342672e-13  -5.86079643e-13  -6.77993806e-13\n",
        "  -7.83851396e-13  -9.05652020e-13]\n"
       ]
      }
     ],
     "prompt_number": 246
    },
    {
     "cell_type": "code",
     "collapsed": false,
     "input": [
      "Bz_Simpeg = Bz_simpeg.reshape((2,FDsurvey.Nfreq), order='F')\n",
      "plt.loglog(frequency, -Bz_anal[:FDsurvey.Nfreq], 'k-')\n",
      "plt.loglog(frequency, -Bz_anal[FDsurvey.Nfreq:], 'b-')\n",
      "plt.loglog(FDsurvey.frequency, -Bz_Simpeg[0,:], 'ko')\n",
      "plt.loglog(FDsurvey.frequency, -Bz_Simpeg[1,:], 'bo')"
     ],
     "language": "python",
     "metadata": {},
     "outputs": [
      {
       "metadata": {},
       "output_type": "pyout",
       "prompt_number": 247,
       "text": [
        "[<matplotlib.lines.Line2D at 0xff19a50>]"
       ]
      },
      {
       "metadata": {},
       "output_type": "display_data",
       "png": "[encoded data removed]",
       "text": [
        "<matplotlib.figure.Figure at 0xf4ca350>"
       ]
      }
     ],
     "prompt_number": 247
    },
    {
     "cell_type": "markdown",
     "metadata": {},
     "source": [
      "Discussion:\n",
      "\n",
      "- Why do we need really small cell for E3D code?\n",
      "- In cylinderical mesh 20m cell is fine\n",
      "- TODO: Test again with Tensor mesh"
     ]
    }
   ],
   "metadata": {}
  }
 ]
}