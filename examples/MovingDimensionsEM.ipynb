{
 "metadata": {
  "name": "",
  "signature": "sha256:13841062198ad5005e0c6b904fd2a9670de077c16c4ac3d4a3bcdae8bb0c477c"
 },
 "nbformat": 3,
 "nbformat_minor": 0,
 "worksheets": [
  {
   "cells": [
    {
     "cell_type": "heading",
     "level": 1,
     "metadata": {},
     "source": [
      "Moving bewteen dimensions in electromagnetic inversions"
     ]
    },
    {
     "cell_type": "heading",
     "level": 2,
     "metadata": {},
     "source": [
      "Abstract"
     ]
    },
    {
     "cell_type": "markdown",
     "metadata": {},
     "source": [
      "Electromagnetic (EM) methods are used to characterize the electrical conductivity distribution of the earth. Since EM methods consider time-varying fields, we typically treat EM in either the frequency domain (FD) or the time domain (TD). Recently, due in part to computational advances, EM geophysical surveys are increasingly being simulated and inverted in 3D. However, the availability of computational resources does not invalidate the use of lower dimensional formulations and methods, which can be useful depending on the geological complexity as well as the survey geometry. For example, we can treat the measured EM data either in TD or FD, and a progressive procedure can be used to invert these data, starting with 1D inversions, then moving to multi-dimensional inversions. As such, we require a set of tools that allow a geophysicists to easily move between dimensions and formulations of the EM problem. This is the motivation behind the open source software package SimPEG-EM which is part of a software ecosystem for Simulation and Parameter Estimation in Geophysics (SimPEG). In this presentation, we will share examples as well as our experience from creating a range of simulation and inversion tools for EM methods that span dimensions (1D, 2.5D and 3D) and apply analytic, FD and TD formulations in a consistent framework. The flexibility and consistency in our EM package allows us to be methodical so that we have the capacity to tackle a spectrum of problems in EM geophysics."
     ]
    },
    {
     "cell_type": "heading",
     "level": 2,
     "metadata": {},
     "source": [
      "What is model?"
     ]
    },
    {
     "cell_type": "markdown",
     "metadata": {},
     "source": [
      "Geophysical inversion is gearing towards recovering a model, which usually considered as distribution of material property such as electrical conductivity ($\\sigma$). Machinery of the inversion is finding a geologically reasonable model, which explain the observed data. Governing equations of EM methods are Maxwell's equations in frequency domain:"
     ]
    },
    {
     "cell_type": "heading",
     "level": 3,
     "metadata": {},
     "source": [
      "\\begin{eqnarray*}\n",
      "    \\nabla\\times \\vec{E} + \\imath \\omega\\vec{B} = 0 \\\\\n",
      "    \\nabla\\times \\mu^{-1}\\vec{B} -\\sigma \\vec{E} = \\vec{J}_s \\\\\n",
      "\\end{eqnarray*}"
     ]
    },
    {
     "cell_type": "markdown",
     "metadata": {},
     "source": [
      "and time domain:"
     ]
    },
    {
     "cell_type": "heading",
     "level": 3,
     "metadata": {},
     "source": [
      "\\begin{eqnarray*}\n",
      "    \\nabla\\times \\vec{e} + \\frac{\\partial \\vec{b}}{\\partial t} = 0 \\\\\n",
      "    \\nabla\\times \\mu^{-1}\\vec{b} -\\sigma \\vec{e} = \\vec{j}_s \\\\\n",
      "\\end{eqnarray*}"
     ]
    },
    {
     "cell_type": "code",
     "collapsed": false,
     "input": [],
     "language": "python",
     "metadata": {},
     "outputs": []
    },
    {
     "cell_type": "heading",
     "level": 3,
     "metadata": {},
     "source": [
      "$$\\sigma = \\mathcal{M}(m) $$"
     ]
    },
    {
     "cell_type": "markdown",
     "metadata": {},
     "source": [
      "<img src=\"figures/mapping123D.png\"  width=\"500\"></img>"
     ]
    },
    {
     "cell_type": "code",
     "collapsed": false,
     "input": [],
     "language": "python",
     "metadata": {},
     "outputs": []
    }
   ],
   "metadata": {}
  }
 ]
}