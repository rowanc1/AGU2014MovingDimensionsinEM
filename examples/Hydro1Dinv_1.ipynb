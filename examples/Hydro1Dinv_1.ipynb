{
 "metadata": {
  "name": "",
  "signature": "sha256:c55b4e19bb297308346153fa3b5fc3e9e1cab4d5c684e29eafb034a883e7ac6f"
 },
 "nbformat": 3,
 "nbformat_minor": 0,
 "worksheets": [
  {
   "cells": [
    {
     "cell_type": "code",
     "collapsed": false,
     "input": [
      "from SimPEG import *\n",
      "import simpegEM as EM\n",
      "from simpegem1d import Utils1D\n",
      "%pylab inline"
     ],
     "language": "python",
     "metadata": {},
     "outputs": [
      {
       "output_type": "stream",
       "stream": "stdout",
       "text": [
        "Populating the interactive namespace from numpy and matplotlib\n"
       ]
      }
     ],
     "prompt_number": 1
    },
    {
     "cell_type": "code",
     "collapsed": false,
     "input": [
      "mesh3D = Utils.meshutils.readUBCTensorMesh('mesh.msh')\n",
      "sigma3D = Utils.meshutils.readUBCTensorModel('sigma_simple.con', mesh3D)"
     ],
     "language": "python",
     "metadata": {},
     "outputs": [],
     "prompt_number": 2
    },
    {
     "cell_type": "code",
     "collapsed": false,
     "input": [
      "x1 = np.arange(30)*10 - 300.\n",
      "y1 = np.arange(30)*10 - 150.\n",
      "xyz1 = Utils.ndgrid(x1, y1, np.r_[0.])\n",
      "xc1 = -150\n",
      "yc1 = 0.\n",
      "r1 = np.sqrt((xyz1[:,0]-xc1)**2+(xyz1[:,1]-yc1)**2)"
     ],
     "language": "python",
     "metadata": {},
     "outputs": [],
     "prompt_number": 3
    },
    {
     "cell_type": "code",
     "collapsed": false,
     "input": [
      "dobs = np.load('bzobs_simple.npy')\n",
      "Dobs = dobs.reshape((900, 31, 2), order='F')\n",
      "Dobs1 = Dobs[:,:,0]\n",
      "Dobs2 = Dobs[:,:,1]"
     ],
     "language": "python",
     "metadata": {},
     "outputs": [],
     "prompt_number": 4
    },
    {
     "cell_type": "code",
     "collapsed": false,
     "input": [
      "fig, ax = plt.subplots(1,2, figsize = (12, 5))\n",
      "ax[0].contourf(Dobs1)\n",
      "ax[1].contourf(Dobs2)"
     ],
     "language": "python",
     "metadata": {},
     "outputs": [
      {
       "metadata": {},
       "output_type": "pyout",
       "prompt_number": 5,
       "text": [
        "<matplotlib.contour.QuadContourSet instance at 0x000000000B554A48>"
       ]
      },
      {
       "metadata": {},
       "output_type": "display_data",
       "png": "[encoded data removed]",
       "text": [
        "<matplotlib.figure.Figure at 0xa7b4278>"
       ]
      }
     ],
     "prompt_number": 5
    },
    {
     "cell_type": "code",
     "collapsed": false,
     "input": [
      "meshType = 'CYL'\n",
      "cs, ncx, ncz, npad = 20., 25, 30, 12\n",
      "hx = [(cs,ncx), (cs,npad,1.3)]\n",
      "hz = [(cs,npad,-1.4), (cs,ncz), (cs,npad,1.4)]\n",
      "mesh = Mesh.CylMesh([hx,1,hz], '00C')"
     ],
     "language": "python",
     "metadata": {},
     "outputs": [],
     "prompt_number": 6
    },
    {
     "cell_type": "code",
     "collapsed": false,
     "input": [
      "active = mesh.vectorCCz<0.\n",
      "layer1 = (mesh.vectorCCz<0.) & (mesh.vectorCCz>=-60.)\n",
      "layer2 = (mesh.vectorCCz<-60) & (mesh.vectorCCz>=-100.)\n",
      "layer3 = (mesh.vectorCCz<-100) & (mesh.vectorCCz>=-200.)\n",
      "actMap = Maps.ActiveCells(mesh, active, np.log(1e-8), nC=mesh.nCz)\n",
      "mapping = Maps.ExpMap(mesh) * Maps.Vertical1DMap(mesh) * actMap"
     ],
     "language": "python",
     "metadata": {},
     "outputs": [],
     "prompt_number": 7
    },
    {
     "cell_type": "code",
     "collapsed": false,
     "input": [
      "sig_half = 1e-3\n",
      "sig_air = 1e-8\n",
      "sig_layer1 = 1./300\n",
      "sig_layer2 = 1./100\n",
      "sig_layer3 = 1./10\n",
      "sigma = np.ones(mesh.nCz)*sig_air\n",
      "sigma[active] = sig_half\n",
      "sigma[layer1] = sig_layer1\n",
      "sigma[layer2] = sig_layer2\n",
      "sigma[layer3] = sig_layer3\n",
      "mtrue = np.log(sigma[active])"
     ],
     "language": "python",
     "metadata": {},
     "outputs": [],
     "prompt_number": 8
    },
    {
     "cell_type": "code",
     "collapsed": false,
     "input": [
      "xc = -100\n",
      "yc = 100.\n",
      "dind = np.argmin(abs( xyz1[:,0]-xc)+abs( xyz1[:,1]-yc))"
     ],
     "language": "python",
     "metadata": {},
     "outputs": [],
     "prompt_number": 9
    },
    {
     "cell_type": "code",
     "collapsed": false,
     "input": [
      "def circfun(xc, yc, r, npoint):\n",
      "    theta = np.linspace(np.pi, -np.pi, npoint)\n",
      "    x = r*np.cos(theta)\n",
      "    y = r*np.sin(theta)\n",
      "    return x+xc, y+yc"
     ],
     "language": "python",
     "metadata": {},
     "outputs": [],
     "prompt_number": 10
    },
    {
     "cell_type": "code",
     "collapsed": false,
     "input": [
      "xcirc1, ycirc1 = circfun(-150., 0., 250., 60)\n",
      "xcirc2, ycirc2 = circfun(150., 0., 250., 60)"
     ],
     "language": "python",
     "metadata": {},
     "outputs": [],
     "prompt_number": 11
    },
    {
     "cell_type": "code",
     "collapsed": false,
     "input": [
      "ind = np.argwhere(xyz1[:,1]==0.)"
     ],
     "language": "python",
     "metadata": {},
     "outputs": [],
     "prompt_number": 12
    },
    {
     "cell_type": "code",
     "collapsed": false,
     "input": [
      "fig, ax = plt.subplots(1,1, figsize=(7,3))\n",
      "indz = 20\n",
      "print mesh.vectorCCz[indz]\n",
      "mesh3D.plotSlice(np.log10(sigma3D), ind = indz, ax = ax, clim=(-3, -0.5))\n",
      "ax.plot(xyz1[:,0], xyz1[:,1], 'r.')\n",
      "ax.plot(xyz1[ind,0], xyz1[ind,1], 'k.', ms=10)\n",
      "# ax.plot(xyz2[:,0], xyz2[:,1], 'b.')\n",
      "ax.plot(xcirc1, ycirc1, 'r-')\n",
      "# ax.plot(xcirc2, ycirc2, 'b-')\n",
      "ax.set_xlim(-500, 500)\n",
      "ax.set_ylim(-300, 300)"
     ],
     "language": "python",
     "metadata": {},
     "outputs": [
      {
       "output_type": "stream",
       "stream": "stdout",
       "text": [
        "-130.0\n"
       ]
      },
      {
       "metadata": {},
       "output_type": "pyout",
       "prompt_number": 13,
       "text": [
        "(-300, 300)"
       ]
      },
      {
       "metadata": {},
       "output_type": "display_data",
       "png": "[encoded data removed]",
       "text": [
        "<matplotlib.figure.Figure at 0xa9f4908>"
       ]
      }
     ],
     "prompt_number": 13
    },
    {
     "cell_type": "code",
     "collapsed": false,
     "input": [
      "sig_test = (sigma[active])"
     ],
     "language": "python",
     "metadata": {},
     "outputs": [],
     "prompt_number": 14
    },
    {
     "cell_type": "code",
     "collapsed": false,
     "input": [
      "Sig_test = (sig_test.reshape([1,-1])).repeat(10, axis=0)\n",
      "x = xyz1[ind,0]\n",
      "z = mesh.vectorCCz[active]\n",
      "Z, X = np.meshgrid(z, x)"
     ],
     "language": "python",
     "metadata": {},
     "outputs": [],
     "prompt_number": 15
    },
    {
     "cell_type": "code",
     "collapsed": false,
     "input": [
      "time = np.logspace(-4, -2, 31)\n",
      "z = mesh.vectorCCz[active]\n",
      "Time, Xtime = np.meshgrid(time, x)"
     ],
     "language": "python",
     "metadata": {},
     "outputs": [],
     "prompt_number": 16
    },
    {
     "cell_type": "code",
     "collapsed": false,
     "input": [
      "# plt.pcolor(X, Z, np.log10(Sig_test))\n",
      "# plt.ylim()"
     ],
     "language": "python",
     "metadata": {},
     "outputs": [],
     "prompt_number": 17
    },
    {
     "cell_type": "code",
     "collapsed": false,
     "input": [
      "fig, ax = plt.subplots(1,1, figsize = (3, 6))\n",
      "Utils1D.plotLayer(sig_test, mesh.vectorCCz[active], showlayers=True, ax = ax)\n",
      "ax.set_ylim(-300., 0.)"
     ],
     "language": "python",
     "metadata": {},
     "outputs": [
      {
       "metadata": {},
       "output_type": "pyout",
       "prompt_number": 18,
       "text": [
        "(-300.0, 0.0)"
       ]
      },
      {
       "metadata": {},
       "output_type": "display_data",
       "png": "[encoded data removed]",
       "text": [
        "<matplotlib.figure.Figure at 0xaa1c780>"
       ]
      }
     ],
     "prompt_number": 18
    },
    {
     "cell_type": "code",
     "collapsed": false,
     "input": [
      "prb = EM.TDEM.ProblemTDEM_b(mesh, mapping=mapping, verbose=False)"
     ],
     "language": "python",
     "metadata": {},
     "outputs": [],
     "prompt_number": 19
    },
    {
     "cell_type": "code",
     "collapsed": false,
     "input": [
      "prb.Solver = SolverLU\n",
      "prb.timeSteps = [(1e-4/10, 15), (1e-3/10, 15), (1e-2/10, 15), (1e-1/10, 15)]"
     ],
     "language": "python",
     "metadata": {},
     "outputs": [],
     "prompt_number": 20
    },
    {
     "cell_type": "code",
     "collapsed": false,
     "input": [
      "Mopt = []\n",
      "Dest=[]\n",
      "# for i in range(Dobs1[ind,:].shape[0]):\n",
      "for i in range(1):\n",
      "    rxoffset=r1[ind][i]\n",
      "    time = np.logspace(-4, -2, 31)\n",
      "    rx = EM.TDEM.RxTDEM(np.array([[rxoffset, 0., 0.]]), time, 'bz')\n",
      "    tx = EM.TDEM.TxTDEM(np.array([0., 0., 0.]), 'CircularLoop_MVP', [rx])\n",
      "    tx.radius = 250.\n",
      "    survey = EM.TDEM.SurveyTDEM([tx])\n",
      "    if prb.ispaired:\n",
      "        prb.unpair()\n",
      "    if survey.ispaired:\n",
      "        survey.unpair()\n",
      "    prb.pair(survey)\n",
      "    std = 0.2\n",
      "    survey.dobs = Utils.mkvc(Dobs1[ind,:][i,:])\n",
      "    survey.std = survey.dobs*0 + std\n",
      "    dmisfit = DataMisfit.l2_DataMisfit(survey)\n",
      "    dmisfit.Wd = 1/(abs(survey.dobs)*std)\n",
      "    regMesh = Mesh.TensorMesh([mesh.hz[mapping.maps[-1].indActive]])\n",
      "    reg = Regularization.Tikhonov(regMesh)\n",
      "    reg.mref = np.log(sig_test)\n",
      "    opt = Optimization.InexactGaussNewton(maxIter = 3)\n",
      "    invProb = InvProblem.BaseInvProblem(dmisfit, reg, opt)\n",
      "    # Create an inversion object\n",
      "    beta = Directives.BetaSchedule(coolingFactor=5, coolingRate=2)\n",
      "    invProb.beta = 1e0\n",
      "    betaest = Directives.BetaEstimate_ByEig(beta0_ratio=1e2)\n",
      "    inv = Inversion.BaseInversion(invProb, directiveList=[beta,betaest])\n",
      "    m0 = np.log(np.ones(mtrue.size)*2e-3)\n",
      "    reg.alpha_s = 1e-2\n",
      "    reg.alpha_x = 1.\n",
      "    prb.counter = opt.counter = Utils.Counter()\n",
      "    opt.LSshorten = 0.5\n",
      "    opt.remember('xc')\n",
      "    mopt = inv.run(m0)\n",
      "#     Mopt.append(mopt)\n",
      "\n",
      "#     Dest.append(invProb.dpred)"
     ],
     "language": "python",
     "metadata": {},
     "outputs": [
      {
       "output_type": "stream",
       "stream": "stdout",
       "text": [
        "SimPEG.InvProblem is setting bfgsH0 to the inverse of the eval2Deriv.\n",
        "                    ***Done using same solver as the problem***\n",
        "============================ Inexact Gauss Newton ============================"
       ]
      },
      {
       "output_type": "stream",
       "stream": "stdout",
       "text": [
        "\n",
        "  #     beta     phi_d     phi_m       f      |proj(x-g)-x|  LS    Comment   \n",
        "-----------------------------------------------------------------------------\n",
        "   0  4.03e+02  2.36e+02  1.85e+01  7.71e+03    4.58e+03      0              "
       ]
      },
      {
       "output_type": "stream",
       "stream": "stdout",
       "text": [
        "\n",
        "   1  4.03e+02  2.49e+01  4.62e+00  1.89e+03    2.32e+03      1              "
       ]
      },
      {
       "output_type": "stream",
       "stream": "stdout",
       "text": [
        "\n",
        "   2  8.06e+01  1.29e+03  6.46e-01  1.34e+03    2.96e+03      0   Skip BFGS  "
       ]
      },
      {
       "output_type": "stream",
       "stream": "stdout",
       "text": [
        "\n",
        "   3  8.06e+01  1.22e+02  1.15e+00  2.15e+02    3.87e+02      0              "
       ]
      },
      {
       "output_type": "stream",
       "stream": "stdout",
       "text": [
        "\n",
        "------------------------- STOP! -------------------------\n",
        "0 : |fc-fOld| = 1.1264e+03 <= tolF*(1+|f0|) = 7.7109e+02\n",
        "1 : |xc-x_last| = 8.3947e-01 <= tolX*(1+|x0|) = 3.3292e+00\n",
        "0 : |proj(x-g)-x|    = 3.8671e+02 <= tolG          = 1.0000e-01\n",
        "0 : |proj(x-g)-x|    = 3.8671e+02 <= 1e3*eps       = 1.0000e-02\n",
        "1 : maxIter   =       3    <= iter          =      3\n",
        "------------------------- DONE! -------------------------\n"
       ]
      }
     ],
     "prompt_number": 29
    },
    {
     "cell_type": "code",
     "collapsed": false,
     "input": [
      "print m0\n",
      "print reg.mref"
     ],
     "language": "python",
     "metadata": {},
     "outputs": [
      {
       "output_type": "stream",
       "stream": "stdout",
       "text": [
        "[-6.2146081 -6.2146081 -6.2146081 -6.2146081 -6.2146081 -6.2146081\n",
        " -6.2146081 -6.2146081 -6.2146081 -6.2146081 -6.2146081 -6.2146081\n",
        " -6.2146081 -6.2146081 -6.2146081 -6.2146081 -6.2146081 -6.2146081\n",
        " -6.2146081 -6.2146081 -6.2146081 -6.2146081 -6.2146081 -6.2146081\n",
        " -6.2146081 -6.2146081 -6.2146081]\n",
        "[-6.90775528 -6.90775528 -6.90775528 -6.90775528 -6.90775528 -6.90775528\n",
        " -6.90775528 -6.90775528 -6.90775528 -6.90775528 -6.90775528 -6.90775528\n",
        " -6.90775528 -6.90775528 -6.90775528 -6.90775528 -6.90775528 -2.30258509\n",
        " -2.30258509 -2.30258509 -2.30258509 -2.30258509 -4.60517019 -4.60517019\n",
        " -5.70378247 -5.70378247 -5.70378247]\n"
       ]
      }
     ],
     "prompt_number": 27
    },
    {
     "cell_type": "code",
     "collapsed": false,
     "input": [
      "Directives.BetaSchedule??"
     ],
     "language": "python",
     "metadata": {},
     "outputs": [],
     "prompt_number": 24
    },
    {
     "cell_type": "code",
     "collapsed": false,
     "input": [
      "# np.save('Mopt1', Mopt)\n",
      "# np.save('Dest1', Dest)"
     ],
     "language": "python",
     "metadata": {},
     "outputs": [],
     "prompt_number": 23
    },
    {
     "cell_type": "code",
     "collapsed": false,
     "input": [
      "Mopt = np.load('Mopt1.npy')\n",
      "Dest = np.load('Dest1.npy')"
     ],
     "language": "python",
     "metadata": {},
     "outputs": [],
     "prompt_number": 24
    },
    {
     "cell_type": "code",
     "collapsed": false,
     "input": [
      "# fig, ax = plt.subplots(1,1, figsize = (3, 6))\n",
      "# Utils1D.plotLayer(np.exp(mopt), mesh.vectorCCz[active], showlayers=True, ax = ax)\n",
      "# ax.set_ylim(-300., 0.)"
     ],
     "language": "python",
     "metadata": {},
     "outputs": [],
     "prompt_number": 25
    },
    {
     "cell_type": "code",
     "collapsed": false,
     "input": [
      "SigMat = np.exp(np.vstack(Mopt))\n",
      "DpreMat = np.vstack(Dest)"
     ],
     "language": "python",
     "metadata": {},
     "outputs": [],
     "prompt_number": 26
    },
    {
     "cell_type": "code",
     "collapsed": false,
     "input": [
      "plt.pcolor(X, Z, np.log10(SigMat))\n",
      "plt.ylim(-700, 0.)"
     ],
     "language": "python",
     "metadata": {},
     "outputs": [
      {
       "metadata": {},
       "output_type": "pyout",
       "prompt_number": 27,
       "text": [
        "(-700, 0.0)"
       ]
      },
      {
       "metadata": {},
       "output_type": "display_data",
       "png": "[encoded data removed]",
       "text": [
        "<matplotlib.figure.Figure at 0xa08acf8>"
       ]
      }
     ],
     "prompt_number": 27
    },
    {
     "cell_type": "code",
     "collapsed": false,
     "input": [
      "DobsMat = Utils.mkvc(Dobs1[ind, :]).reshape((30, 31), order='F')"
     ],
     "language": "python",
     "metadata": {},
     "outputs": [],
     "prompt_number": 28
    },
    {
     "cell_type": "code",
     "collapsed": false,
     "input": [
      "fig, ax = plt.subplots(1,2, figsize = (12, 5))\n",
      "vmin = np.log10(Utils.mkvc(SigMat).min())\n",
      "vmax = np.log10(Utils.mkvc(SigMat).max())\n",
      "ax[0].contourf(X, Z, np.log10(SigMat), 31, vmin = -3, vmax = -1)\n",
      "mesh3D.plotSlice(np.log10(sigma3D), ind = 20, normal='Y', ax = ax[1], clim=(-3, -1))\n",
      "for i in range(2):\n",
      "    ax[i].set_ylim(-700., 0.)\n",
      "    ax[i].set_xlim(-300., -10.)"
     ],
     "language": "python",
     "metadata": {},
     "outputs": [
      {
       "metadata": {},
       "output_type": "display_data",
       "png": "[encoded data removed]",
       "text": [
        "<matplotlib.figure.Figure at 0x135cca58>"
       ]
      }
     ],
     "prompt_number": 69
    },
    {
     "cell_type": "code",
     "collapsed": false,
     "input": [
      "\n",
      "fig, ax = plt.subplots(1,2, figsize = (12, 5))\n",
      "vmin = np.log10(Utils.mkvc(DpreMat).min())\n",
      "vmax = np.log10(Utils.mkvc(DpreMat).max())\n",
      "ax[1].contourf(Xtime, np.log10(Time), np.log10(DpreMat), 31, vmin = vmin, vmax = vmax)\n",
      "ax[0].contourf(Xtime, np.log10(Time), np.log10(DobsMat), 31, vmin = vmin, vmax = vmax)"
     ],
     "language": "python",
     "metadata": {},
     "outputs": [
      {
       "metadata": {},
       "output_type": "pyout",
       "prompt_number": 54,
       "text": [
        "<matplotlib.contour.QuadContourSet instance at 0x0000000012AFD1C8>"
       ]
      },
      {
       "metadata": {},
       "output_type": "display_data",
       "png": "[encoded data removed]",
       "text": [
        "<matplotlib.figure.Figure at 0x127968d0>"
       ]
      }
     ],
     "prompt_number": 54
    },
    {
     "cell_type": "code",
     "collapsed": false,
     "input": [],
     "language": "python",
     "metadata": {},
     "outputs": []
    }
   ],
   "metadata": {}
  }
 ]
}