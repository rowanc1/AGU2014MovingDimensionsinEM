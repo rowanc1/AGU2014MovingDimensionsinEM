{
 "metadata": {
  "name": "",
  "signature": "sha256:3794f6e0ed9dfea20ff8abfce76a587fd1e17ad30b57d9e9714eaec88d4239ab"
 },
 "nbformat": 3,
 "nbformat_minor": 0,
 "worksheets": [
  {
   "cells": [
    {
     "cell_type": "code",
     "collapsed": false,
     "input": [
      "from SimPEG import *\n",
      "import simpegEM as EM\n",
      "from simpegem1d import Utils1D\n",
      "%pylab inline"
     ],
     "language": "python",
     "metadata": {},
     "outputs": [
      {
       "output_type": "stream",
       "stream": "stdout",
       "text": [
        "Populating the interactive namespace from numpy and matplotlib\n"
       ]
      }
     ],
     "prompt_number": 2
    },
    {
     "cell_type": "code",
     "collapsed": false,
     "input": [
      "mesh3D = Utils.meshutils.readUBCTensorMesh('mesh.msh')\n",
      "sigma3D = Utils.meshutils.readUBCTensorModel('sigma_realistic.con', mesh3D)"
     ],
     "language": "python",
     "metadata": {},
     "outputs": [],
     "prompt_number": 3
    },
    {
     "cell_type": "code",
     "collapsed": false,
     "input": [
      "x2 = np.arange(30)*10 + 10.\n",
      "y2 = np.arange(30)*10 - 150.\n",
      "xyz2 = Utils.ndgrid(x2, y2, np.r_[0.])\n",
      "xc2 = 150\n",
      "yc2 = 0.\n",
      "r2 = np.sqrt((xyz2[:,0]-xc2)**2+(xyz2[:,1]-yc2)**2)"
     ],
     "language": "python",
     "metadata": {},
     "outputs": [],
     "prompt_number": 4
    },
    {
     "cell_type": "code",
     "collapsed": false,
     "input": [
      "frequency = np.r_[1., 10., 100.]\n",
      "ind = np.argwhere(xyz2[:,1]==0.).flatten()"
     ],
     "language": "python",
     "metadata": {},
     "outputs": [],
     "prompt_number": 7
    },
    {
     "cell_type": "code",
     "collapsed": false,
     "input": [
      "dobs = np.load('bzobs_FD_realistic.npy')\n",
      "Dobs = dobs.reshape((900, 2, frequency.size, 2), order='F')\n",
      "Dobsr1 = Dobs[:,0,:,0]\n",
      "Dobsi1 = Dobs[:,1,:,0]\n",
      "Dobsr2 = Dobs[:,0,:,1]\n",
      "Dobsi2 = Dobs[:,1,:,1]\n",
      "DobsLine = Utils.mkvc(Dobs[ind,:,:,:])\n",
      "np.save('bzobs_FD_realistic_line', DobsLine)"
     ],
     "language": "python",
     "metadata": {},
     "outputs": [],
     "prompt_number": 8
    },
    {
     "cell_type": "code",
     "collapsed": false,
     "input": [
      "meshType = 'CYL'\n",
      "cs, ncx, ncz, npad = 20., 25, 30, 12\n",
      "hx = [(cs,ncx), (cs,npad,1.3)]\n",
      "hz = [(cs,npad,-1.4), (cs,ncz), (cs,npad,1.4)]\n",
      "mesh = Mesh.CylMesh([hx,1,hz], '00C')"
     ],
     "language": "python",
     "metadata": {},
     "outputs": [],
     "prompt_number": 6
    },
    {
     "cell_type": "code",
     "collapsed": false,
     "input": [
      "active = mesh.vectorCCz<0.\n",
      "layer1 = (mesh.vectorCCz<0.) & (mesh.vectorCCz>=-60.)\n",
      "layer2 = (mesh.vectorCCz<-60) & (mesh.vectorCCz>=-100.)\n",
      "layer3 = (mesh.vectorCCz<-100) & (mesh.vectorCCz>=-200.)\n",
      "actMap = Maps.ActiveCells(mesh, active, np.log(1e-8), nC=mesh.nCz)\n",
      "mapping = Maps.ExpMap(mesh) * Maps.Vertical1DMap(mesh) * actMap"
     ],
     "language": "python",
     "metadata": {},
     "outputs": [],
     "prompt_number": 7
    },
    {
     "cell_type": "code",
     "collapsed": false,
     "input": [
      "sig_half = 1e-3\n",
      "sig_air = 1e-8\n",
      "sig_layer1 = 1./300\n",
      "sig_layer2 = 1./100\n",
      "sig_layer3 = 1./10\n",
      "sigma = np.ones(mesh.nCz)*sig_air\n",
      "sigma[active] = sig_half\n",
      "sigma[layer1] = sig_layer1\n",
      "sigma[layer2] = sig_layer2\n",
      "sigma[layer3] = sig_layer3\n",
      "mtrue = np.log(sigma[active])"
     ],
     "language": "python",
     "metadata": {},
     "outputs": [],
     "prompt_number": 8
    },
    {
     "cell_type": "code",
     "collapsed": false,
     "input": [
      "def circfun(xc, yc, r, npoint):\n",
      "    theta = np.linspace(np.pi, -np.pi, npoint)\n",
      "    x = r*np.cos(theta)\n",
      "    y = r*np.sin(theta)\n",
      "    return x+xc, y+yc"
     ],
     "language": "python",
     "metadata": {},
     "outputs": [],
     "prompt_number": 11
    },
    {
     "cell_type": "code",
     "collapsed": false,
     "input": [
      "xcirc1, ycirc1 = circfun(-150., 0., 250., 60)\n",
      "xcirc2, ycirc2 = circfun(150., 0., 250., 60)"
     ],
     "language": "python",
     "metadata": {},
     "outputs": [],
     "prompt_number": 12
    },
    {
     "cell_type": "code",
     "collapsed": false,
     "input": [
      "DobsLine = Dobs[ind,:,:,:]"
     ],
     "language": "python",
     "metadata": {},
     "outputs": [],
     "prompt_number": 14
    },
    {
     "cell_type": "code",
     "collapsed": false,
     "input": [
      "plt.plot(DobsLine[0,0,:,1], 'b.-')\n",
      "plt.plot(DobsLine[0,1,:,1], 'k.-')"
     ],
     "language": "python",
     "metadata": {},
     "outputs": [
      {
       "metadata": {},
       "output_type": "pyout",
       "prompt_number": 15,
       "text": [
        "[<matplotlib.lines.Line2D at 0xb4fb828>]"
       ]
      },
      {
       "metadata": {},
       "output_type": "display_data",
       "png": "[encoded data removed]",
       "text": [
        "<matplotlib.figure.Figure at 0xb4fb860>"
       ]
      }
     ],
     "prompt_number": 15
    },
    {
     "cell_type": "code",
     "collapsed": false,
     "input": [
      "print Dobs.shape\n",
      "print DobsLine.shape"
     ],
     "language": "python",
     "metadata": {},
     "outputs": [
      {
       "output_type": "stream",
       "stream": "stdout",
       "text": [
        "(900L, 2L, 3L, 2L)\n",
        "(30L, 2L, 3L, 2L)\n"
       ]
      }
     ],
     "prompt_number": 16
    },
    {
     "cell_type": "code",
     "collapsed": false,
     "input": [
      "# Dobs = dobs.reshape((900, 2, frequency.size, 2), order='F')\n",
      "# Dobsr1 = Dobs[:,0,:,0]"
     ],
     "language": "python",
     "metadata": {},
     "outputs": [],
     "prompt_number": 17
    },
    {
     "cell_type": "code",
     "collapsed": false,
     "input": [
      "fig, ax = plt.subplots(1,1, figsize=(7,3))\n",
      "indz = 20\n",
      "print mesh.vectorCCz[indz]\n",
      "mesh3D.plotSlice(np.log10(sigma3D), ind = indz, ax = ax, clim=(-3, -0.5))\n",
      "ax.plot(xyz2[:,0], xyz2[:,1], 'b.')\n",
      "ax.plot(xyz2[ind,0], xyz2[ind,1], 'k.', ms=10)\n",
      "# ax.plot(xyz2[:,0], xyz2[:,1], 'b.')\n",
      "# ax.plot(xcirc1, ycirc1, 'r-')\n",
      "ax.plot(xcirc2, ycirc2, 'b-')\n",
      "ax.set_xlim(-500, 500)\n",
      "ax.set_ylim(-300, 300)"
     ],
     "language": "python",
     "metadata": {},
     "outputs": [
      {
       "output_type": "stream",
       "stream": "stdout",
       "text": [
        "-130.0\n"
       ]
      },
      {
       "metadata": {},
       "output_type": "pyout",
       "prompt_number": 18,
       "text": [
        "(-300, 300)"
       ]
      },
      {
       "metadata": {},
       "output_type": "display_data",
       "png": "[encoded data removed]",
       "text": [
        "<matplotlib.figure.Figure at 0xa9532e8>"
       ]
      }
     ],
     "prompt_number": 18
    },
    {
     "cell_type": "code",
     "collapsed": false,
     "input": [
      "sig_test = (sigma[active])"
     ],
     "language": "python",
     "metadata": {},
     "outputs": [],
     "prompt_number": 38
    },
    {
     "cell_type": "code",
     "collapsed": false,
     "input": [
      "Sig_test = (sig_test.reshape([1,-1])).repeat(10, axis=0)\n",
      "x = xyz2[ind,0]\n",
      "z = mesh.vectorCCz[active]\n",
      "Z, X = np.meshgrid(z, x)"
     ],
     "language": "python",
     "metadata": {},
     "outputs": [],
     "prompt_number": 39
    },
    {
     "cell_type": "code",
     "collapsed": false,
     "input": [
      "z = mesh.vectorCCz[active]\n",
      "Frequency, X = np.meshgrid(frequency, x)"
     ],
     "language": "python",
     "metadata": {},
     "outputs": [],
     "prompt_number": 24
    },
    {
     "cell_type": "code",
     "collapsed": false,
     "input": [
      "fig, ax = plt.subplots(1,1, figsize = (3, 6))\n",
      "Utils1D.plotLayer(sig_test, mesh.vectorCCz[active], showlayers=True, ax = ax)\n",
      "ax.set_ylim(-300., 0.)"
     ],
     "language": "python",
     "metadata": {},
     "outputs": [
      {
       "metadata": {},
       "output_type": "pyout",
       "prompt_number": 25,
       "text": [
        "(-300.0, 0.0)"
       ]
      },
      {
       "metadata": {},
       "output_type": "display_data",
       "png": "[encoded data removed]",
       "text": [
        "<matplotlib.figure.Figure at 0xa957128>"
       ]
      }
     ],
     "prompt_number": 25
    },
    {
     "cell_type": "code",
     "collapsed": false,
     "input": [
      "prb = EM.FDEM.ProblemFDEM_b(mesh, mapping=mapping, verbose=False)"
     ],
     "language": "python",
     "metadata": {},
     "outputs": [],
     "prompt_number": 26
    },
    {
     "cell_type": "code",
     "collapsed": false,
     "input": [
      "prb.Solver = SolverLU"
     ],
     "language": "python",
     "metadata": {},
     "outputs": [],
     "prompt_number": 27
    },
    {
     "cell_type": "code",
     "collapsed": false,
     "input": [
      "Mopt = []\n",
      "Dest=[]\n",
      "\n",
      "for i in range(r2[ind].size):\n",
      "# for i in range(1):\n",
      "#     i = 29\n",
      "    txList = []\n",
      "    for freq in frequency:\n",
      "        rxoffset=r2[ind][i]\n",
      "        rxr = EM.FDEM.RxFDEM(np.array([[rxoffset, 0., 0.]]),'bzr')\n",
      "        rxi = EM.FDEM.RxFDEM(np.array([[rxoffset, 0., 0.]]),'bzi')\n",
      "        tx = EM.FDEM.TxFDEM(np.array([0., 0., 0.]), 'CircularLoop', freq, [rxr, rxi])\n",
      "        tx.radius = 250.\n",
      "        txList.append(tx)\n",
      "\n",
      "    survey = EM.FDEM.SurveyFDEM(txList)\n",
      "    if prb.ispaired:\n",
      "        prb.unpair()\n",
      "    if survey.ispaired:\n",
      "        survey.unpair()\n",
      "    prb.pair(survey)\n",
      "    std = 0.2   \n",
      "    survey.dobs = Utils.mkvc(DobsLine[i,:,:,1])\n",
      "    survey.std = survey.dobs*0 + std\n",
      "    dmisfit = DataMisfit.l2_DataMisfit(survey)\n",
      "    dmisfit.Wd = 1/(abs(survey.dobs)*std+1e-12)\n",
      "    regMesh = Mesh.TensorMesh([mesh.hz[mapping.maps[-1].indActive]])\n",
      "    reg = Regularization.Tikhonov(regMesh)\n",
      "    opt = Optimization.InexactGaussNewton(maxIter = 5)\n",
      "    invProb = InvProblem.BaseInvProblem(dmisfit, reg, opt)\n",
      "    # Create an inversion object\n",
      "    beta = Directives.BetaSchedule(coolingFactor=5, coolingRate=2)\n",
      "    betaest = Directives.BetaEstimate_ByEig(beta0_ratio=1e0)\n",
      "    inv = Inversion.BaseInversion(invProb, directiveList=[beta,betaest])\n",
      "    m0 = np.log(np.ones(mtrue.size)*2e-3)\n",
      "    reg.alpha_s = 1e-2\n",
      "    reg.alpha_x = 1.\n",
      "    prb.counter = opt.counter = Utils.Counter()\n",
      "    opt.LSshorten = 0.5\n",
      "    opt.remember('xc')\n",
      "    mopt = inv.run(m0)\n",
      "    Mopt.append(mopt)\n",
      "    Dest.append(invProb.dpred)"
     ],
     "language": "python",
     "metadata": {},
     "outputs": [
      {
       "output_type": "stream",
       "stream": "stdout",
       "text": [
        "SimPEG.InvProblem will set Regularization.mref to m0.\n",
        "SimPEG.InvProblem is setting bfgsH0 to the inverse of the eval2Deriv.\n",
        "                    ***Done using same solver as the problem***\n",
        "============================ Inexact Gauss Newton ============================"
       ]
      },
      {
       "output_type": "stream",
       "stream": "stdout",
       "text": [
        "\n",
        "  #     beta     phi_d     phi_m       f      |proj(x-g)-x|  LS    Comment   \n",
        "-----------------------------------------------------------------------------\n",
        "   0  5.22e-02  2.86e+01  0.00e+00  2.86e+01    2.00e+00      0              "
       ]
      },
      {
       "output_type": "stream",
       "stream": "stdout",
       "text": [
        "\n",
        "   1  5.22e-02  4.03e+00  2.62e+00  4.17e+00    6.22e+00      2              "
       ]
      },
      {
       "output_type": "stream",
       "stream": "stdout",
       "text": [
        "\n",
        "   2  1.04e-02  2.31e+00  3.11e+00  2.34e+00    1.11e+00      0              "
       ]
      },
      {
       "output_type": "stream",
       "stream": "stdout",
       "text": [
        "\n",
        "   3  1.04e-02  2.12e+00  3.80e+00  2.16e+00    4.11e+00      3   Skip BFGS  "
       ]
      },
      {
       "output_type": "stream",
       "stream": "stdout",
       "text": [
        "\n",
        "   4  2.09e-03  1.98e+00  4.05e+00  1.99e+00    4.18e+00      4              "
       ]
      },
      {
       "output_type": "stream",
       "stream": "stdout",
       "text": [
        "\n",
        "   5  2.09e-03  1.88e+00  4.52e+00  1.89e+00    5.13e+00      3   Skip BFGS  "
       ]
      },
      {
       "output_type": "stream",
       "stream": "stdout",
       "text": [
        "\n",
        "------------------------- STOP! -------------------------\n",
        "1 : |fc-fOld| = 9.8990e-02 <= tolF*(1+|f0|) = 2.9601e+00\n",
        "1 : |xc-x_last| = 8.9200e-01 <= tolX*(1+|x0|) = 3.3292e+00\n",
        "0 : |proj(x-g)-x|    = 5.1264e+00 <= tolG          = 1.0000e-01\n",
        "0 : |proj(x-g)-x|    = 5.1264e+00 <= 1e3*eps       = 1.0000e-02\n",
        "1 : maxIter   =       5    <= iter          =      5\n",
        "------------------------- DONE! -------------------------\n",
        "SimPEG.InvProblem will set Regularization.mref to m0.\n",
        "SimPEG.InvProblem is setting bfgsH0 to the inverse of the eval2Deriv.\n",
        "                    ***Done using same solver as the problem***\n",
        "============================ Inexact Gauss Newton ============================"
       ]
      },
      {
       "output_type": "stream",
       "stream": "stdout",
       "text": [
        "\n",
        "  #     beta     phi_d     phi_m       f      |proj(x-g)-x|  LS    Comment   \n",
        "-----------------------------------------------------------------------------\n",
        "   0  2.26e-02  2.89e+01  0.00e+00  2.89e+01    2.03e+00      0              "
       ]
      },
      {
       "output_type": "stream",
       "stream": "stdout",
       "text": [
        "\n",
        "   1  2.26e-02  3.56e+00  2.82e+00  3.63e+00    4.35e+00      2              "
       ]
      },
      {
       "output_type": "stream",
       "stream": "stdout",
       "text": [
        "\n",
        "   2  4.53e-03  2.20e+00  3.73e+00  2.21e+00    1.48e+00      3   Skip BFGS  "
       ]
      },
      {
       "output_type": "stream",
       "stream": "stdout",
       "text": [
        "\n",
        "   3  4.53e-03  1.98e+00  4.90e+00  2.01e+00    5.39e+00      2              "
       ]
      },
      {
       "output_type": "stream",
       "stream": "stdout",
       "text": [
        "\n",
        "   4  9.05e-04  1.81e+00  5.20e+00  1.81e+00    5.26e+00      3              "
       ]
      },
      {
       "output_type": "stream",
       "stream": "stdout",
       "text": [
        "\n",
        "   5  9.05e-04  1.63e+00  5.44e+00  1.63e+00    5.00e+00      3   Skip BFGS  "
       ]
      },
      {
       "output_type": "stream",
       "stream": "stdout",
       "text": [
        "\n",
        "------------------------- STOP! -------------------------\n",
        "1 : |fc-fOld| = 1.8067e-01 <= tolF*(1+|f0|) = 2.9901e+00\n",
        "1 : |xc-x_last| = 4.9790e-01 <= tolX*(1+|x0|) = 3.3292e+00\n",
        "0 : |proj(x-g)-x|    = 5.0045e+00 <= tolG          = 1.0000e-01\n",
        "0 : |proj(x-g)-x|    = 5.0045e+00 <= 1e3*eps       = 1.0000e-02\n",
        "1 : maxIter   =       5    <= iter          =      5\n",
        "------------------------- DONE! -------------------------\n",
        "SimPEG.InvProblem will set Regularization.mref to m0.\n",
        "SimPEG.InvProblem is setting bfgsH0 to the inverse of the eval2Deriv.\n",
        "                    ***Done using same solver as the problem***\n",
        "============================ Inexact Gauss Newton ============================"
       ]
      },
      {
       "output_type": "stream",
       "stream": "stdout",
       "text": [
        "\n",
        "  #     beta     phi_d     phi_m       f      |proj(x-g)-x|  LS    Comment   \n",
        "-----------------------------------------------------------------------------\n",
        "   0  1.76e-02  3.00e+01  0.00e+00  3.00e+01    1.90e+00      0              "
       ]
      },
      {
       "output_type": "stream",
       "stream": "stdout",
       "text": [
        "\n",
        "   1  1.76e-02  2.16e+00  3.66e+00  2.23e+00    2.97e+00      2              "
       ]
      },
      {
       "output_type": "stream",
       "stream": "stdout",
       "text": [
        "\n",
        "   2  3.52e-03  2.08e+00  4.28e+00  2.10e+00    4.80e+00      3   Skip BFGS  "
       ]
      },
      {
       "output_type": "stream",
       "stream": "stdout",
       "text": [
        "\n",
        "   3  3.52e-03  1.97e+00  4.63e+00  1.98e+00    5.47e+00      3   Skip BFGS  "
       ]
      },
      {
       "output_type": "stream",
       "stream": "stdout",
       "text": [
        "\n",
        "   4  7.03e-04  1.29e+00  4.36e+00  1.29e+00    7.02e-01      0              "
       ]
      },
      {
       "output_type": "stream",
       "stream": "stdout",
       "text": [
        "\n",
        "   5  7.03e-04  1.08e+00  4.93e+00  1.09e+00    1.71e+00      3   Skip BFGS  "
       ]
      },
      {
       "output_type": "stream",
       "stream": "stdout",
       "text": [
        "\n",
        "------------------------- STOP! -------------------------\n",
        "1 : |fc-fOld| = 2.0448e-01 <= tolF*(1+|f0|) = 3.1030e+00\n",
        "1 : |xc-x_last| = 8.5693e-01 <= tolX*(1+|x0|) = 3.3292e+00\n",
        "0 : |proj(x-g)-x|    = 1.7083e+00 <= tolG          = 1.0000e-01\n",
        "0 : |proj(x-g)-x|    = 1.7083e+00 <= 1e3*eps       = 1.0000e-02\n",
        "1 : maxIter   =       5    <= iter          =      5\n",
        "------------------------- DONE! -------------------------\n",
        "SimPEG.InvProblem will set Regularization.mref to m0.\n",
        "SimPEG.InvProblem is setting bfgsH0 to the inverse of the eval2Deriv.\n",
        "                    ***Done using same solver as the problem***\n",
        "============================ Inexact Gauss Newton ============================"
       ]
      },
      {
       "output_type": "stream",
       "stream": "stdout",
       "text": [
        "\n",
        "  #     beta     phi_d     phi_m       f      |proj(x-g)-x|  LS    Comment   \n",
        "-----------------------------------------------------------------------------\n",
        "   0  9.53e-03  3.06e+01  0.00e+00  3.06e+01    1.90e+00      0              "
       ]
      },
      {
       "output_type": "stream",
       "stream": "stdout",
       "text": [
        "\n",
        "   1  9.53e-03  3.54e+00  3.50e+00  3.57e+00    8.36e-01      2              "
       ]
      },
      {
       "output_type": "stream",
       "stream": "stdout",
       "text": [
        "\n",
        "   2  1.91e-03  3.49e+00  4.60e+00  3.50e+00    5.75e+00      3   Skip BFGS  "
       ]
      },
      {
       "output_type": "stream",
       "stream": "stdout",
       "text": [
        "\n",
        "   3  1.91e-03  3.42e+00  5.06e+00  3.43e+00    7.18e+00      3              "
       ]
      },
      {
       "output_type": "stream",
       "stream": "stdout",
       "text": [
        "\n",
        "   4  3.81e-04  3.38e+00  5.58e+00  3.38e+00    7.33e+00      4              "
       ]
      },
      {
       "output_type": "stream",
       "stream": "stdout",
       "text": [
        "\n",
        "   5  3.81e-04  3.31e+00  6.13e+00  3.31e+00    7.50e+00      4              "
       ]
      },
      {
       "output_type": "stream",
       "stream": "stdout",
       "text": [
        "\n",
        "------------------------- STOP! -------------------------\n",
        "1 : |fc-fOld| = 7.2629e-02 <= tolF*(1+|f0|) = 3.1584e+00\n",
        "1 : |xc-x_last| = 8.4543e-01 <= tolX*(1+|x0|) = 3.3292e+00\n",
        "0 : |proj(x-g)-x|    = 7.4964e+00 <= tolG          = 1.0000e-01\n",
        "0 : |proj(x-g)-x|    = 7.4964e+00 <= 1e3*eps       = 1.0000e-02\n",
        "1 : maxIter   =       5    <= iter          =      5\n",
        "------------------------- DONE! -------------------------\n",
        "SimPEG.InvProblem will set Regularization.mref to m0.\n",
        "SimPEG.InvProblem is setting bfgsH0 to the inverse of the eval2Deriv.\n",
        "                    ***Done using same solver as the problem***\n",
        "============================ Inexact Gauss Newton ============================"
       ]
      },
      {
       "output_type": "stream",
       "stream": "stdout",
       "text": [
        "\n",
        "  #     beta     phi_d     phi_m       f      |proj(x-g)-x|  LS    Comment   \n",
        "-----------------------------------------------------------------------------\n",
        "   0  2.40e-02  3.12e+01  0.00e+00  3.12e+01    1.81e+00      0              "
       ]
      },
      {
       "output_type": "stream",
       "stream": "stdout",
       "text": [
        "\n",
        "   1  2.40e-02  2.57e+00  4.14e+00  2.67e+00    8.04e+00      2              "
       ]
      },
      {
       "output_type": "stream",
       "stream": "stdout",
       "text": [
        "\n",
        "   2  4.80e-03  1.65e+00  3.90e+00  1.67e+00    1.02e+00      0              "
       ]
      },
      {
       "output_type": "stream",
       "stream": "stdout",
       "text": [
        "\n",
        "   3  4.80e-03  1.47e+00  4.52e+00  1.49e+00    3.04e+00      3   Skip BFGS  "
       ]
      },
      {
       "output_type": "stream",
       "stream": "stdout",
       "text": [
        "\n",
        "   4  9.60e-04  1.33e+00  5.12e+00  1.33e+00    3.62e+00      3              "
       ]
      },
      {
       "output_type": "stream",
       "stream": "stdout",
       "text": [
        "\n",
        "   5  9.60e-04  1.19e+00  5.66e+00  1.20e+00    3.78e+00      3   Skip BFGS  "
       ]
      },
      {
       "output_type": "stream",
       "stream": "stdout",
       "text": [
        "\n",
        "------------------------- STOP! -------------------------\n",
        "1 : |fc-fOld| = 1.3222e-01 <= tolF*(1+|f0|) = 3.2188e+00\n",
        "1 : |xc-x_last| = 7.7022e-01 <= tolX*(1+|x0|) = 3.3292e+00\n",
        "0 : |proj(x-g)-x|    = 3.7849e+00 <= tolG          = 1.0000e-01\n",
        "0 : |proj(x-g)-x|    = 3.7849e+00 <= 1e3*eps       = 1.0000e-02\n",
        "1 : maxIter   =       5    <= iter          =      5\n",
        "------------------------- DONE! -------------------------\n",
        "SimPEG.InvProblem will set Regularization.mref to m0.\n",
        "SimPEG.InvProblem is setting bfgsH0 to the inverse of the eval2Deriv.\n",
        "                    ***Done using same solver as the problem***\n",
        "============================ Inexact Gauss Newton ============================"
       ]
      },
      {
       "output_type": "stream",
       "stream": "stdout",
       "text": [
        "\n",
        "  #     beta     phi_d     phi_m       f      |proj(x-g)-x|  LS    Comment   \n",
        "-----------------------------------------------------------------------------\n",
        "   0  2.40e-02  3.11e+01  0.00e+00  3.11e+01    1.87e+00      0              "
       ]
      },
      {
       "output_type": "stream",
       "stream": "stdout",
       "text": [
        "\n",
        "   1  2.40e-02  3.21e+00  3.53e+00  3.29e+00    1.06e+00      2              "
       ]
      },
      {
       "output_type": "stream",
       "stream": "stdout",
       "text": [
        "\n",
        "   2  4.79e-03  2.78e+00  4.49e+00  2.80e+00    3.19e+00      3   Skip BFGS  "
       ]
      },
      {
       "output_type": "stream",
       "stream": "stdout",
       "text": [
        "\n",
        "   3  4.79e-03  2.68e+00  4.98e+00  2.71e+00    4.99e+00      3              "
       ]
      },
      {
       "output_type": "stream",
       "stream": "stdout",
       "text": [
        "\n",
        "   4  9.58e-04  2.59e+00  5.35e+00  2.59e+00    5.00e+00      4              "
       ]
      },
      {
       "output_type": "stream",
       "stream": "stdout",
       "text": [
        "\n",
        "   5  9.58e-04  2.49e+00  5.74e+00  2.50e+00    4.99e+00      4   Skip BFGS  "
       ]
      },
      {
       "output_type": "stream",
       "stream": "stdout",
       "text": [
        "\n",
        "------------------------- STOP! -------------------------\n",
        "1 : |fc-fOld| = 9.5680e-02 <= tolF*(1+|f0|) = 3.2075e+00\n",
        "1 : |xc-x_last| = 5.8461e-01 <= tolX*(1+|x0|) = 3.3292e+00\n",
        "0 : |proj(x-g)-x|    = 4.9887e+00 <= tolG          = 1.0000e-01\n",
        "0 : |proj(x-g)-x|    = 4.9887e+00 <= 1e3*eps       = 1.0000e-02\n",
        "1 : maxIter   =       5    <= iter          =      5\n",
        "------------------------- DONE! -------------------------\n",
        "SimPEG.InvProblem will set Regularization.mref to m0.\n",
        "SimPEG.InvProblem is setting bfgsH0 to the inverse of the eval2Deriv.\n",
        "                    ***Done using same solver as the problem***\n",
        "============================ Inexact Gauss Newton ============================"
       ]
      },
      {
       "output_type": "stream",
       "stream": "stdout",
       "text": [
        "\n",
        "  #     beta     phi_d     phi_m       f      |proj(x-g)-x|  LS    Comment   \n",
        "-----------------------------------------------------------------------------\n",
        "   0  1.78e-02  3.19e+01  0.00e+00  3.19e+01    1.84e+00      0              "
       ]
      },
      {
       "output_type": "stream",
       "stream": "stdout",
       "text": [
        "\n",
        "   1  1.78e-02  3.45e+00  3.85e+00  3.52e+00    2.25e+00      2              "
       ]
      },
      {
       "output_type": "stream",
       "stream": "stdout",
       "text": [
        "\n",
        "   2  3.56e-03  3.21e+00  4.32e+00  3.23e+00    3.09e+00      4   Skip BFGS  "
       ]
      },
      {
       "output_type": "stream",
       "stream": "stdout",
       "text": [
        "\n",
        "   3  3.56e-03  3.00e+00  4.65e+00  3.02e+00    3.57e+00      4   Skip BFGS  "
       ]
      },
      {
       "output_type": "stream",
       "stream": "stdout",
       "text": [
        "\n",
        "   4  7.13e-04  2.94e+00  5.19e+00  2.94e+00    5.69e+00      3   Skip BFGS  "
       ]
      },
      {
       "output_type": "stream",
       "stream": "stdout",
       "text": [
        "\n",
        "   5  7.13e-04  2.80e+00  5.49e+00  2.80e+00    6.68e+00      3   Skip BFGS  "
       ]
      },
      {
       "output_type": "stream",
       "stream": "stdout",
       "text": [
        "\n",
        "------------------------- STOP! -------------------------\n",
        "1 : |fc-fOld| = 1.4304e-01 <= tolF*(1+|f0|) = 3.2869e+00\n",
        "1 : |xc-x_last| = 7.5037e-01 <= tolX*(1+|x0|) = 3.3292e+00\n",
        "0 : |proj(x-g)-x|    = 6.6824e+00 <= tolG          = 1.0000e-01\n",
        "0 : |proj(x-g)-x|    = 6.6824e+00 <= 1e3*eps       = 1.0000e-02\n",
        "1 : maxIter   =       5    <= iter          =      5\n",
        "------------------------- DONE! -------------------------\n",
        "SimPEG.InvProblem will set Regularization.mref to m0.\n",
        "SimPEG.InvProblem is setting bfgsH0 to the inverse of the eval2Deriv.\n",
        "                    ***Done using same solver as the problem***\n",
        "============================ Inexact Gauss Newton ============================"
       ]
      },
      {
       "output_type": "stream",
       "stream": "stdout",
       "text": [
        "\n",
        "  #     beta     phi_d     phi_m       f      |proj(x-g)-x|  LS    Comment   \n",
        "-----------------------------------------------------------------------------\n",
        "   0  8.64e-03  3.24e+01  0.00e+00  3.24e+01    1.81e+00      0              "
       ]
      },
      {
       "output_type": "stream",
       "stream": "stdout",
       "text": [
        "\n",
        "   1  8.64e-03  4.22e+00  4.20e+00  4.26e+00    7.57e+00      2              "
       ]
      },
      {
       "output_type": "stream",
       "stream": "stdout",
       "text": [
        "\n",
        "   2  1.73e-03  3.33e+00  3.97e+00  3.33e+00    1.17e+00      0              "
       ]
      },
      {
       "output_type": "stream",
       "stream": "stdout",
       "text": [
        "\n",
        "   3  1.73e-03  3.00e+00  4.48e+00  3.01e+00    2.04e+00      4   Skip BFGS  "
       ]
      },
      {
       "output_type": "stream",
       "stream": "stdout",
       "text": [
        "\n",
        "   4  3.46e-04  2.62e+00  5.66e+00  2.62e+00    4.07e+00      3              "
       ]
      },
      {
       "output_type": "stream",
       "stream": "stdout",
       "text": [
        "\n",
        "   5  3.46e-04  2.40e+00  6.56e+00  2.40e+00    4.86e+00      3              "
       ]
      },
      {
       "output_type": "stream",
       "stream": "stdout",
       "text": [
        "\n",
        "------------------------- STOP! -------------------------\n",
        "1 : |fc-fOld| = 2.2199e-01 <= tolF*(1+|f0|) = 3.3378e+00\n",
        "1 : |xc-x_last| = 1.1532e+00 <= tolX*(1+|x0|) = 3.3292e+00\n",
        "0 : |proj(x-g)-x|    = 4.8628e+00 <= tolG          = 1.0000e-01\n",
        "0 : |proj(x-g)-x|    = 4.8628e+00 <= 1e3*eps       = 1.0000e-02\n",
        "1 : maxIter   =       5    <= iter          =      5\n",
        "------------------------- DONE! -------------------------\n",
        "SimPEG.InvProblem will set Regularization.mref to m0.\n",
        "SimPEG.InvProblem is setting bfgsH0 to the inverse of the eval2Deriv.\n",
        "                    ***Done using same solver as the problem***\n",
        "============================ Inexact Gauss Newton ============================"
       ]
      },
      {
       "output_type": "stream",
       "stream": "stdout",
       "text": [
        "\n",
        "  #     beta     phi_d     phi_m       f      |proj(x-g)-x|  LS    Comment   \n",
        "-----------------------------------------------------------------------------\n",
        "   0  4.21e-02  3.26e+01  0.00e+00  3.26e+01    1.76e+00      0              "
       ]
      },
      {
       "output_type": "stream",
       "stream": "stdout",
       "text": [
        "\n",
        "   1  4.21e-02  3.15e+00  3.77e+00  3.31e+00    2.11e+00      2              "
       ]
      },
      {
       "output_type": "stream",
       "stream": "stdout",
       "text": [
        "\n",
        "   2  8.42e-03  2.47e+00  4.65e+00  2.51e+00    1.46e+00      3   Skip BFGS  "
       ]
      },
      {
       "output_type": "stream",
       "stream": "stdout",
       "text": [
        "\n",
        "   3  8.42e-03  2.24e+00  5.20e+00  2.28e+00    3.50e+00      3              "
       ]
      },
      {
       "output_type": "stream",
       "stream": "stdout",
       "text": [
        "\n",
        "   4  1.68e-03  2.11e+00  5.53e+00  2.12e+00    3.61e+00      4              "
       ]
      },
      {
       "output_type": "stream",
       "stream": "stdout",
       "text": [
        "\n",
        "   5  1.68e-03  2.00e+00  5.86e+00  2.01e+00    3.68e+00      4   Skip BFGS  "
       ]
      },
      {
       "output_type": "stream",
       "stream": "stdout",
       "text": [
        "\n",
        "------------------------- STOP! -------------------------\n",
        "1 : |fc-fOld| = 1.1437e-01 <= tolF*(1+|f0|) = 3.3602e+00\n",
        "1 : |xc-x_last| = 5.0017e-01 <= tolX*(1+|x0|) = 3.3292e+00\n",
        "0 : |proj(x-g)-x|    = 3.6797e+00 <= tolG          = 1.0000e-01\n",
        "0 : |proj(x-g)-x|    = 3.6797e+00 <= 1e3*eps       = 1.0000e-02\n",
        "1 : maxIter   =       5    <= iter          =      5\n",
        "------------------------- DONE! -------------------------\n",
        "SimPEG.InvProblem will set Regularization.mref to m0.\n",
        "SimPEG.InvProblem is setting bfgsH0 to the inverse of the eval2Deriv.\n",
        "                    ***Done using same solver as the problem***\n",
        "============================ Inexact Gauss Newton ============================"
       ]
      },
      {
       "output_type": "stream",
       "stream": "stdout",
       "text": [
        "\n",
        "  #     beta     phi_d     phi_m       f      |proj(x-g)-x|  LS    Comment   \n",
        "-----------------------------------------------------------------------------\n",
        "   0  9.08e-03  3.31e+01  0.00e+00  3.31e+01    1.75e+00      0              "
       ]
      },
      {
       "output_type": "stream",
       "stream": "stdout",
       "text": [
        "\n",
        "   1  9.08e-03  7.70e+00  4.92e+00  7.74e+00    2.31e+01      2              "
       ]
      },
      {
       "output_type": "stream",
       "stream": "stdout",
       "text": [
        "\n",
        "   2  1.82e-03  2.64e+00  4.43e+00  2.65e+00    3.53e+00      0              "
       ]
      },
      {
       "output_type": "stream",
       "stream": "stdout",
       "text": [
        "\n",
        "   3  1.82e-03  2.39e+00  5.50e+00  2.40e+00    4.91e+00      3   Skip BFGS  "
       ]
      },
      {
       "output_type": "stream",
       "stream": "stdout",
       "text": [
        "\n",
        "   4  3.63e-04  2.27e+00  5.95e+00  2.28e+00    5.11e+00      4              "
       ]
      },
      {
       "output_type": "stream",
       "stream": "stdout",
       "text": [
        "\n",
        "   5  3.63e-04  2.14e+00  6.90e+00  2.14e+00    5.74e+00      3   Skip BFGS  "
       ]
      },
      {
       "output_type": "stream",
       "stream": "stdout",
       "text": [
        "\n",
        "------------------------- STOP! -------------------------\n",
        "1 : |fc-fOld| = 1.3035e-01 <= tolF*(1+|f0|) = 3.4086e+00\n",
        "1 : |xc-x_last| = 1.2059e+00 <= tolX*(1+|x0|) = 3.3292e+00\n",
        "0 : |proj(x-g)-x|    = 5.7433e+00 <= tolG          = 1.0000e-01\n",
        "0 : |proj(x-g)-x|    = 5.7433e+00 <= 1e3*eps       = 1.0000e-02\n",
        "1 : maxIter   =       5    <= iter          =      5\n",
        "------------------------- DONE! -------------------------\n",
        "SimPEG.InvProblem will set Regularization.mref to m0.\n",
        "SimPEG.InvProblem is setting bfgsH0 to the inverse of the eval2Deriv.\n",
        "                    ***Done using same solver as the problem***\n",
        "============================ Inexact Gauss Newton ============================"
       ]
      },
      {
       "output_type": "stream",
       "stream": "stdout",
       "text": [
        "\n",
        "  #     beta     phi_d     phi_m       f      |proj(x-g)-x|  LS    Comment   \n",
        "-----------------------------------------------------------------------------\n",
        "   0  1.49e-02  3.24e+01  0.00e+00  3.24e+01    1.81e+00      0              "
       ]
      },
      {
       "output_type": "stream",
       "stream": "stdout",
       "text": [
        "\n",
        "   1  1.49e-02  3.77e+00  4.01e+00  3.83e+00    2.91e+00      2              "
       ]
      },
      {
       "output_type": "stream",
       "stream": "stdout",
       "text": [
        "\n",
        "   2  2.98e-03  3.58e+00  4.52e+00  3.59e+00    3.88e+00      4   Skip BFGS  "
       ]
      },
      {
       "output_type": "stream",
       "stream": "stdout",
       "text": [
        "\n",
        "   3  2.98e-03  3.38e+00  4.87e+00  3.39e+00    4.40e+00      4   Skip BFGS  "
       ]
      },
      {
       "output_type": "stream",
       "stream": "stdout",
       "text": [
        "\n",
        "   4  5.97e-04  3.17e+00  5.12e+00  3.17e+00    4.62e+00      4   Skip BFGS  "
       ]
      },
      {
       "output_type": "stream",
       "stream": "stdout",
       "text": [
        "\n",
        "   5  5.97e-04  3.08e+00  5.54e+00  3.08e+00    6.29e+00      3   Skip BFGS  "
       ]
      },
      {
       "output_type": "stream",
       "stream": "stdout",
       "text": [
        "\n",
        "------------------------- STOP! -------------------------\n",
        "1 : |fc-fOld| = 8.8892e-02 <= tolF*(1+|f0|) = 3.3414e+00\n",
        "1 : |xc-x_last| = 8.7874e-01 <= tolX*(1+|x0|) = 3.3292e+00\n",
        "0 : |proj(x-g)-x|    = 6.2915e+00 <= tolG          = 1.0000e-01\n",
        "0 : |proj(x-g)-x|    = 6.2915e+00 <= 1e3*eps       = 1.0000e-02\n",
        "1 : maxIter   =       5    <= iter          =      5\n",
        "------------------------- DONE! -------------------------\n",
        "SimPEG.InvProblem will set Regularization.mref to m0.\n",
        "SimPEG.InvProblem is setting bfgsH0 to the inverse of the eval2Deriv.\n",
        "                    ***Done using same solver as the problem***\n",
        "============================ Inexact Gauss Newton ============================"
       ]
      },
      {
       "output_type": "stream",
       "stream": "stdout",
       "text": [
        "\n",
        "  #     beta     phi_d     phi_m       f      |proj(x-g)-x|  LS    Comment   \n",
        "-----------------------------------------------------------------------------\n",
        "   0  9.81e-03  3.27e+01  0.00e+00  3.27e+01    1.83e+00      0              "
       ]
      },
      {
       "output_type": "stream",
       "stream": "stdout",
       "text": [
        "\n",
        "   1  9.81e-03  4.71e+00  3.81e+00  4.75e+00    1.04e+00      2              "
       ]
      },
      {
       "output_type": "stream",
       "stream": "stdout",
       "text": [
        "\n",
        "   2  1.96e-03  4.34e+00  4.49e+00  4.35e+00    2.72e+00      4   Skip BFGS  "
       ]
      },
      {
       "output_type": "stream",
       "stream": "stdout",
       "text": [
        "\n",
        "   3  1.96e-03  4.05e+00  4.91e+00  4.06e+00    3.50e+00      4   Skip BFGS  "
       ]
      },
      {
       "output_type": "stream",
       "stream": "stdout",
       "text": [
        "\n",
        "   4  3.92e-04  3.77e+00  5.20e+00  3.77e+00    3.88e+00      4   Skip BFGS  "
       ]
      },
      {
       "output_type": "stream",
       "stream": "stdout",
       "text": [
        "\n",
        "   5  3.92e-04  3.62e+00  5.68e+00  3.62e+00    6.01e+00      3   Skip BFGS  "
       ]
      },
      {
       "output_type": "stream",
       "stream": "stdout",
       "text": [
        "\n",
        "------------------------- STOP! -------------------------\n",
        "1 : |fc-fOld| = 1.4497e-01 <= tolF*(1+|f0|) = 3.3661e+00\n",
        "1 : |xc-x_last| = 1.0149e+00 <= tolX*(1+|x0|) = 3.3292e+00\n",
        "0 : |proj(x-g)-x|    = 6.0055e+00 <= tolG          = 1.0000e-01\n",
        "0 : |proj(x-g)-x|    = 6.0055e+00 <= 1e3*eps       = 1.0000e-02\n",
        "1 : maxIter   =       5    <= iter          =      5\n",
        "------------------------- DONE! -------------------------\n",
        "SimPEG.InvProblem will set Regularization.mref to m0.\n",
        "SimPEG.InvProblem is setting bfgsH0 to the inverse of the eval2Deriv.\n",
        "                    ***Done using same solver as the problem***\n",
        "============================ Inexact Gauss Newton ============================"
       ]
      },
      {
       "output_type": "stream",
       "stream": "stdout",
       "text": [
        "\n",
        "  #     beta     phi_d     phi_m       f      |proj(x-g)-x|  LS    Comment   \n",
        "-----------------------------------------------------------------------------\n",
        "   0  1.54e-02  3.22e+01  0.00e+00  3.22e+01    1.87e+00      0              "
       ]
      },
      {
       "output_type": "stream",
       "stream": "stdout",
       "text": [
        "\n",
        "   1  1.54e-02  4.61e+00  3.53e+00  4.67e+00    1.85e+00      2              "
       ]
      },
      {
       "output_type": "stream",
       "stream": "stdout",
       "text": [
        "\n",
        "   2  3.07e-03  4.52e+00  5.10e+00  4.54e+00    6.79e+00      3   Skip BFGS  "
       ]
      },
      {
       "output_type": "stream",
       "stream": "stdout",
       "text": [
        "\n",
        "   3  3.07e-03  4.29e+00  5.36e+00  4.30e+00    6.94e+00      4              "
       ]
      },
      {
       "output_type": "stream",
       "stream": "stdout",
       "text": [
        "\n",
        "   4  6.14e-04  4.17e+00  5.66e+00  4.18e+00    6.72e+00      5              "
       ]
      },
      {
       "output_type": "stream",
       "stream": "stdout",
       "text": [
        "\n",
        "   5  6.14e-04  4.13e+00  6.39e+00  4.13e+00    7.07e+00      4   Skip BFGS  "
       ]
      },
      {
       "output_type": "stream",
       "stream": "stdout",
       "text": [
        "\n",
        "------------------------- STOP! -------------------------\n",
        "1 : |fc-fOld| = 4.8522e-02 <= tolF*(1+|f0|) = 3.3154e+00\n",
        "1 : |xc-x_last| = 9.6884e-01 <= tolX*(1+|x0|) = 3.3292e+00\n",
        "0 : |proj(x-g)-x|    = 7.0680e+00 <= tolG          = 1.0000e-01\n",
        "0 : |proj(x-g)-x|    = 7.0680e+00 <= 1e3*eps       = 1.0000e-02\n",
        "1 : maxIter   =       5    <= iter          =      5\n",
        "------------------------- DONE! -------------------------\n",
        "SimPEG.InvProblem will set Regularization.mref to m0.\n",
        "SimPEG.InvProblem is setting bfgsH0 to the inverse of the eval2Deriv.\n",
        "                    ***Done using same solver as the problem***\n",
        "============================ Inexact Gauss Newton ============================"
       ]
      },
      {
       "output_type": "stream",
       "stream": "stdout",
       "text": [
        "\n",
        "  #     beta     phi_d     phi_m       f      |proj(x-g)-x|  LS    Comment   \n",
        "-----------------------------------------------------------------------------\n",
        "   0  3.82e-02  3.21e+01  0.00e+00  3.21e+01    1.87e+00      0              "
       ]
      },
      {
       "output_type": "stream",
       "stream": "stdout",
       "text": [
        "\n",
        "   1  3.82e-02  5.27e+00  3.19e+00  5.39e+00    5.19e+00      2              "
       ]
      },
      {
       "output_type": "stream",
       "stream": "stdout",
       "text": [
        "\n",
        "   2  7.65e-03  4.15e+00  3.59e+00  4.18e+00    5.13e-01      0              "
       ]
      },
      {
       "output_type": "stream",
       "stream": "stdout",
       "text": [
        "\n",
        "   3  7.65e-03  3.84e+00  4.23e+00  3.87e+00    2.89e+00      4   Skip BFGS  "
       ]
      },
      {
       "output_type": "stream",
       "stream": "stdout",
       "text": [
        "\n",
        "   4  1.53e-03  3.81e+00  4.82e+00  3.82e+00    4.92e+00      4              "
       ]
      },
      {
       "output_type": "stream",
       "stream": "stdout",
       "text": [
        "\n",
        "   5  1.53e-03  3.75e+00  5.28e+00  3.75e+00    5.92e+00      4              "
       ]
      },
      {
       "output_type": "stream",
       "stream": "stdout",
       "text": [
        "\n",
        "------------------------- STOP! -------------------------\n",
        "1 : |fc-fOld| = 6.2958e-02 <= tolF*(1+|f0|) = 3.3091e+00\n",
        "1 : |xc-x_last| = 8.5327e-01 <= tolX*(1+|x0|) = 3.3292e+00\n",
        "0 : |proj(x-g)-x|    = 5.9224e+00 <= tolG          = 1.0000e-01\n",
        "0 : |proj(x-g)-x|    = 5.9224e+00 <= 1e3*eps       = 1.0000e-02\n",
        "1 : maxIter   =       5    <= iter          =      5\n",
        "------------------------- DONE! -------------------------\n",
        "SimPEG.InvProblem will set Regularization.mref to m0.\n",
        "SimPEG.InvProblem is setting bfgsH0 to the inverse of the eval2Deriv.\n",
        "                    ***Done using same solver as the problem***\n",
        "============================ Inexact Gauss Newton ============================"
       ]
      },
      {
       "output_type": "stream",
       "stream": "stdout",
       "text": [
        "\n",
        "  #     beta     phi_d     phi_m       f      |proj(x-g)-x|  LS    Comment   \n",
        "-----------------------------------------------------------------------------\n",
        "   0  6.11e-03  3.17e+01  0.00e+00  3.17e+01    1.92e+00      0              "
       ]
      },
      {
       "output_type": "stream",
       "stream": "stdout",
       "text": [
        "\n",
        "   1  6.11e-03  5.77e+00  3.21e+00  5.79e+00    3.25e+00      2              "
       ]
      },
      {
       "output_type": "stream",
       "stream": "stdout",
       "text": [
        "\n",
        "   2  1.22e-03  4.64e+00  4.11e+00  4.64e+00    1.09e+00      4   Skip BFGS  "
       ]
      },
      {
       "output_type": "stream",
       "stream": "stdout",
       "text": [
        "\n",
        "   3  1.22e-03  4.01e+00  5.25e+00  4.02e+00    4.14e+00      3              "
       ]
      },
      {
       "output_type": "stream",
       "stream": "stdout",
       "text": [
        "\n",
        "   4  2.44e-04  3.75e+00  5.64e+00  3.75e+00    4.29e+00      4              "
       ]
      },
      {
       "output_type": "stream",
       "stream": "stdout",
       "text": [
        "\n",
        "   5  2.44e-04  3.62e+00  6.34e+00  3.62e+00    5.75e+00      3   Skip BFGS  "
       ]
      },
      {
       "output_type": "stream",
       "stream": "stdout",
       "text": [
        "\n",
        "------------------------- STOP! -------------------------\n",
        "1 : |fc-fOld| = 1.2809e-01 <= tolF*(1+|f0|) = 3.2729e+00\n",
        "1 : |xc-x_last| = 1.0637e+00 <= tolX*(1+|x0|) = 3.3292e+00\n",
        "0 : |proj(x-g)-x|    = 5.7521e+00 <= tolG          = 1.0000e-01\n",
        "0 : |proj(x-g)-x|    = 5.7521e+00 <= 1e3*eps       = 1.0000e-02\n",
        "1 : maxIter   =       5    <= iter          =      5\n",
        "------------------------- DONE! -------------------------\n",
        "SimPEG.InvProblem will set Regularization.mref to m0.\n",
        "SimPEG.InvProblem is setting bfgsH0 to the inverse of the eval2Deriv.\n",
        "                    ***Done using same solver as the problem***\n",
        "============================ Inexact Gauss Newton ============================"
       ]
      },
      {
       "output_type": "stream",
       "stream": "stdout",
       "text": [
        "\n",
        "  #     beta     phi_d     phi_m       f      |proj(x-g)-x|  LS    Comment   \n",
        "-----------------------------------------------------------------------------\n",
        "   0  3.09e-02  3.16e+01  0.00e+00  3.16e+01    1.97e+00      0              "
       ]
      },
      {
       "output_type": "stream",
       "stream": "stdout",
       "text": [
        "\n",
        "   1  3.09e-02  9.04e+00  2.54e+00  9.12e+00    6.17e+00      2              "
       ]
      },
      {
       "output_type": "stream",
       "stream": "stdout",
       "text": [
        "\n",
        "   2  6.18e-03  6.58e+00  3.23e+00  6.60e+00    1.05e+00      0              "
       ]
      },
      {
       "output_type": "stream",
       "stream": "stdout",
       "text": [
        "\n",
        "   3  6.18e-03  6.30e+00  4.20e+00  6.33e+00    4.48e+00      4   Skip BFGS  "
       ]
      },
      {
       "output_type": "stream",
       "stream": "stdout",
       "text": [
        "\n",
        "   4  1.24e-03  6.21e+00  4.97e+00  6.22e+00    6.17e+00      4              "
       ]
      },
      {
       "output_type": "stream",
       "stream": "stdout",
       "text": [
        "\n",
        "   5  1.24e-03  5.97e+00  5.59e+00  5.98e+00    6.82e+00      4   Skip BFGS  "
       ]
      },
      {
       "output_type": "stream",
       "stream": "stdout",
       "text": [
        "\n",
        "------------------------- STOP! -------------------------\n",
        "1 : |fc-fOld| = 2.3749e-01 <= tolF*(1+|f0|) = 3.2649e+00\n",
        "1 : |xc-x_last| = 9.5236e-01 <= tolX*(1+|x0|) = 3.3292e+00\n",
        "0 : |proj(x-g)-x|    = 6.8173e+00 <= tolG          = 1.0000e-01\n",
        "0 : |proj(x-g)-x|    = 6.8173e+00 <= 1e3*eps       = 1.0000e-02\n",
        "1 : maxIter   =       5    <= iter          =      5\n",
        "------------------------- DONE! -------------------------\n",
        "SimPEG.InvProblem will set Regularization.mref to m0.\n",
        "SimPEG.InvProblem is setting bfgsH0 to the inverse of the eval2Deriv.\n",
        "                    ***Done using same solver as the problem***\n",
        "============================ Inexact Gauss Newton ============================"
       ]
      },
      {
       "output_type": "stream",
       "stream": "stdout",
       "text": [
        "\n",
        "  #     beta     phi_d     phi_m       f      |proj(x-g)-x|  LS    Comment   \n",
        "-----------------------------------------------------------------------------\n",
        "   0  1.94e-02  3.16e+01  0.00e+00  3.16e+01    1.95e+00      0              "
       ]
      },
      {
       "output_type": "stream",
       "stream": "stdout",
       "text": [
        "\n",
        "   1  1.94e-02  6.74e+00  2.90e+00  6.80e+00    5.12e+00      2              "
       ]
      },
      {
       "output_type": "stream",
       "stream": "stdout",
       "text": [
        "\n",
        "   2  3.87e-03  5.50e+00  3.34e+00  5.51e+00    5.58e-01      0              "
       ]
      },
      {
       "output_type": "stream",
       "stream": "stdout",
       "text": [
        "\n",
        "   3  3.87e-03  5.23e+00  4.17e+00  5.25e+00    4.11e+00      4   Skip BFGS  "
       ]
      },
      {
       "output_type": "stream",
       "stream": "stdout",
       "text": [
        "\n",
        "   4  7.74e-04  5.10e+00  4.51e+00  5.10e+00    4.54e+00      5              "
       ]
      },
      {
       "output_type": "stream",
       "stream": "stdout",
       "text": [
        "\n",
        "   5  7.74e-04  4.92e+00  4.81e+00  4.93e+00    4.74e+00      5   Skip BFGS  "
       ]
      },
      {
       "output_type": "stream",
       "stream": "stdout",
       "text": [
        "\n",
        "------------------------- STOP! -------------------------\n",
        "1 : |fc-fOld| = 1.7899e-01 <= tolF*(1+|f0|) = 3.2597e+00\n",
        "1 : |xc-x_last| = 5.4853e-01 <= tolX*(1+|x0|) = 3.3292e+00\n",
        "0 : |proj(x-g)-x|    = 4.7377e+00 <= tolG          = 1.0000e-01\n",
        "0 : |proj(x-g)-x|    = 4.7377e+00 <= 1e3*eps       = 1.0000e-02\n",
        "1 : maxIter   =       5    <= iter          =      5\n",
        "------------------------- DONE! -------------------------\n",
        "SimPEG.InvProblem will set Regularization.mref to m0.\n",
        "SimPEG.InvProblem is setting bfgsH0 to the inverse of the eval2Deriv.\n",
        "                    ***Done using same solver as the problem***\n",
        "============================ Inexact Gauss Newton ============================"
       ]
      },
      {
       "output_type": "stream",
       "stream": "stdout",
       "text": [
        "\n",
        "  #     beta     phi_d     phi_m       f      |proj(x-g)-x|  LS    Comment   \n",
        "-----------------------------------------------------------------------------\n",
        "   0  1.14e-02  3.10e+01  0.00e+00  3.10e+01    2.07e+00      0              "
       ]
      },
      {
       "output_type": "stream",
       "stream": "stdout",
       "text": [
        "\n",
        "   1  1.14e-02  9.44e+00  2.36e+00  9.46e+00    5.83e+00      2              "
       ]
      },
      {
       "output_type": "stream",
       "stream": "stdout",
       "text": [
        "\n",
        "   2  2.27e-03  7.18e+00  3.02e+00  7.19e+00    1.01e+00      0              "
       ]
      },
      {
       "output_type": "stream",
       "stream": "stdout",
       "text": [
        "\n",
        "   3  2.27e-03  6.80e+00  3.53e+00  6.81e+00    1.93e+00      5   Skip BFGS  "
       ]
      },
      {
       "output_type": "stream",
       "stream": "stdout",
       "text": [
        "\n",
        "   4  4.55e-04  6.35e+00  4.43e+00  6.35e+00    4.06e+00      4              "
       ]
      },
      {
       "output_type": "stream",
       "stream": "stdout",
       "text": [
        "\n",
        "   5  4.55e-04  6.23e+00  5.25e+00  6.23e+00    5.91e+00      4              "
       ]
      },
      {
       "output_type": "stream",
       "stream": "stdout",
       "text": [
        "\n",
        "------------------------- STOP! -------------------------\n",
        "1 : |fc-fOld| = 1.2572e-01 <= tolF*(1+|f0|) = 3.2044e+00\n",
        "1 : |xc-x_last| = 1.2549e+00 <= tolX*(1+|x0|) = 3.3292e+00\n",
        "0 : |proj(x-g)-x|    = 5.9115e+00 <= tolG          = 1.0000e-01\n",
        "0 : |proj(x-g)-x|    = 5.9115e+00 <= 1e3*eps       = 1.0000e-02\n",
        "1 : maxIter   =       5    <= iter          =      5\n",
        "------------------------- DONE! -------------------------\n",
        "SimPEG.InvProblem will set Regularization.mref to m0.\n",
        "SimPEG.InvProblem is setting bfgsH0 to the inverse of the eval2Deriv.\n",
        "                    ***Done using same solver as the problem***\n",
        "============================ Inexact Gauss Newton ============================"
       ]
      },
      {
       "output_type": "stream",
       "stream": "stdout",
       "text": [
        "\n",
        "  #     beta     phi_d     phi_m       f      |proj(x-g)-x|  LS    Comment   \n",
        "-----------------------------------------------------------------------------\n",
        "   0  2.85e-02  3.04e+01  0.00e+00  3.04e+01    2.07e+00      0              "
       ]
      },
      {
       "output_type": "stream",
       "stream": "stdout",
       "text": [
        "\n",
        "   1  2.85e-02  9.33e+00  2.24e+00  9.40e+00    6.30e+00      2              "
       ]
      },
      {
       "output_type": "stream",
       "stream": "stdout",
       "text": [
        "\n",
        "   2  5.70e-03  6.42e+00  3.03e+00  6.44e+00    1.70e+00      0              "
       ]
      },
      {
       "output_type": "stream",
       "stream": "stdout",
       "text": [
        "\n",
        "   3  5.70e-03  6.34e+00  4.01e+00  6.36e+00    5.31e+00      4   Skip BFGS  "
       ]
      },
      {
       "output_type": "stream",
       "stream": "stdout",
       "text": [
        "\n",
        "   4  1.14e-03  6.31e+00  4.75e+00  6.31e+00    6.79e+00      4              "
       ]
      },
      {
       "output_type": "stream",
       "stream": "stdout",
       "text": [
        "\n",
        "   5  1.14e-03  6.09e+00  5.34e+00  6.10e+00    7.32e+00      4   Skip BFGS  "
       ]
      },
      {
       "output_type": "stream",
       "stream": "stdout",
       "text": [
        "\n",
        "------------------------- STOP! -------------------------\n",
        "1 : |fc-fOld| = 2.1217e-01 <= tolF*(1+|f0|) = 3.1366e+00\n",
        "1 : |xc-x_last| = 9.3578e-01 <= tolX*(1+|x0|) = 3.3292e+00\n",
        "0 : |proj(x-g)-x|    = 7.3197e+00 <= tolG          = 1.0000e-01\n",
        "0 : |proj(x-g)-x|    = 7.3197e+00 <= 1e3*eps       = 1.0000e-02\n",
        "1 : maxIter   =       5    <= iter          =      5\n",
        "------------------------- DONE! -------------------------\n",
        "SimPEG.InvProblem will set Regularization.mref to m0.\n",
        "SimPEG.InvProblem is setting bfgsH0 to the inverse of the eval2Deriv.\n",
        "                    ***Done using same solver as the problem***\n",
        "============================ Inexact Gauss Newton ============================"
       ]
      },
      {
       "output_type": "stream",
       "stream": "stdout",
       "text": [
        "\n",
        "  #     beta     phi_d     phi_m       f      |proj(x-g)-x|  LS    Comment   \n",
        "-----------------------------------------------------------------------------\n",
        "   0  3.41e-02  2.90e+01  0.00e+00  2.90e+01    2.23e+00      0              "
       ]
      },
      {
       "output_type": "stream",
       "stream": "stdout",
       "text": [
        "\n",
        "   1  3.41e-02  1.29e+01  1.54e+00  1.29e+01    6.08e+00      2              "
       ]
      },
      {
       "output_type": "stream",
       "stream": "stdout",
       "text": [
        "\n",
        "   2  6.82e-03  8.74e+00  2.70e+00  8.76e+00    4.89e+00      0              "
       ]
      },
      {
       "output_type": "stream",
       "stream": "stdout",
       "text": [
        "\n",
        "   3  6.82e-03  8.56e+00  3.21e+00  8.58e+00    5.42e+00      5   Skip BFGS  "
       ]
      },
      {
       "output_type": "stream",
       "stream": "stdout",
       "text": [
        "\n",
        "   4  1.36e-03  8.31e+00  3.59e+00  8.32e+00    5.51e+00      5   Skip BFGS  "
       ]
      },
      {
       "output_type": "stream",
       "stream": "stdout",
       "text": [
        "\n",
        "   5  1.36e-03  8.12e+00  4.42e+00  8.12e+00    6.79e+00      4   Skip BFGS  "
       ]
      },
      {
       "output_type": "stream",
       "stream": "stdout",
       "text": [
        "\n",
        "------------------------- STOP! -------------------------\n",
        "1 : |fc-fOld| = 1.9388e-01 <= tolF*(1+|f0|) = 3.0021e+00\n",
        "1 : |xc-x_last| = 1.2504e+00 <= tolX*(1+|x0|) = 3.3292e+00\n",
        "0 : |proj(x-g)-x|    = 6.7916e+00 <= tolG          = 1.0000e-01\n",
        "0 : |proj(x-g)-x|    = 6.7916e+00 <= 1e3*eps       = 1.0000e-02\n",
        "1 : maxIter   =       5    <= iter          =      5\n",
        "------------------------- DONE! -------------------------\n",
        "SimPEG.InvProblem will set Regularization.mref to m0.\n",
        "SimPEG.InvProblem is setting bfgsH0 to the inverse of the eval2Deriv.\n",
        "                    ***Done using same solver as the problem***\n",
        "============================ Inexact Gauss Newton ============================"
       ]
      },
      {
       "output_type": "stream",
       "stream": "stdout",
       "text": [
        "\n",
        "  #     beta     phi_d     phi_m       f      |proj(x-g)-x|  LS    Comment   \n",
        "-----------------------------------------------------------------------------\n",
        "   0  3.55e-02  2.81e+01  0.00e+00  2.81e+01    2.37e+00      0              "
       ]
      },
      {
       "output_type": "stream",
       "stream": "stdout",
       "text": [
        "\n",
        "   1  3.55e-02  1.51e+01  1.12e+00  1.51e+01    5.54e+00      2              "
       ]
      },
      {
       "output_type": "stream",
       "stream": "stdout",
       "text": [
        "\n",
        "   2  7.09e-03  1.11e+01  2.46e+00  1.11e+01    7.59e+00      0              "
       ]
      },
      {
       "output_type": "stream",
       "stream": "stdout",
       "text": [
        "\n",
        "   3  7.09e-03  9.81e+00  2.30e+00  9.83e+00    1.50e+00      0              "
       ]
      },
      {
       "output_type": "stream",
       "stream": "stdout",
       "text": [
        "\n",
        "   4  1.42e-03  9.44e+00  2.82e+00  9.44e+00    2.51e+00      5   Skip BFGS  "
       ]
      },
      {
       "output_type": "stream",
       "stream": "stdout",
       "text": [
        "\n",
        "   5  1.42e-03  9.35e+00  4.02e+00  9.36e+00    5.88e+00      4              "
       ]
      },
      {
       "output_type": "stream",
       "stream": "stdout",
       "text": [
        "\n",
        "------------------------- STOP! -------------------------\n",
        "1 : |fc-fOld| = 8.1295e-02 <= tolF*(1+|f0|) = 2.9121e+00\n",
        "1 : |xc-x_last| = 1.8388e+00 <= tolX*(1+|x0|) = 3.3292e+00\n",
        "0 : |proj(x-g)-x|    = 5.8830e+00 <= tolG          = 1.0000e-01\n",
        "0 : |proj(x-g)-x|    = 5.8830e+00 <= 1e3*eps       = 1.0000e-02\n",
        "1 : maxIter   =       5    <= iter          =      5\n",
        "------------------------- DONE! -------------------------\n",
        "SimPEG.InvProblem will set Regularization.mref to m0.\n",
        "SimPEG.InvProblem is setting bfgsH0 to the inverse of the eval2Deriv.\n",
        "                    ***Done using same solver as the problem***\n",
        "============================ Inexact Gauss Newton ============================"
       ]
      },
      {
       "output_type": "stream",
       "stream": "stdout",
       "text": [
        "\n",
        "  #     beta     phi_d     phi_m       f      |proj(x-g)-x|  LS    Comment   \n",
        "-----------------------------------------------------------------------------\n",
        "   0  1.37e-01  2.74e+01  0.00e+00  2.74e+01    2.43e+00      0              "
       ]
      },
      {
       "output_type": "stream",
       "stream": "stdout",
       "text": [
        "\n",
        "   1  1.37e-01  1.87e+01  3.38e+00  1.92e+01    2.66e+01      1              "
       ]
      },
      {
       "output_type": "stream",
       "stream": "stdout",
       "text": [
        "\n",
        "   2  2.73e-02  9.74e+00  2.76e+00  9.81e+00    4.53e+00      0              "
       ]
      },
      {
       "output_type": "stream",
       "stream": "stdout",
       "text": [
        "\n",
        "   3  2.73e-02  9.47e+00  3.14e+00  9.56e+00    4.57e+00      5   Skip BFGS  "
       ]
      },
      {
       "output_type": "stream",
       "stream": "stdout",
       "text": [
        "\n",
        "   4  5.47e-03  9.37e+00  3.86e+00  9.39e+00    5.96e+00      4   Skip BFGS  "
       ]
      },
      {
       "output_type": "stream",
       "stream": "stdout",
       "text": [
        "\n",
        "   5  5.47e-03  9.10e+00  4.28e+00  9.12e+00    6.03e+00      5              "
       ]
      },
      {
       "output_type": "stream",
       "stream": "stdout",
       "text": [
        "\n",
        "------------------------- STOP! -------------------------\n",
        "1 : |fc-fOld| = 2.7146e-01 <= tolF*(1+|f0|) = 2.8365e+00\n",
        "1 : |xc-x_last| = 7.4828e-01 <= tolX*(1+|x0|) = 3.3292e+00\n",
        "0 : |proj(x-g)-x|    = 6.0350e+00 <= tolG          = 1.0000e-01\n",
        "0 : |proj(x-g)-x|    = 6.0350e+00 <= 1e3*eps       = 1.0000e-02\n",
        "1 : maxIter   =       5    <= iter          =      5\n",
        "------------------------- DONE! -------------------------\n",
        "SimPEG.InvProblem will set Regularization.mref to m0.\n",
        "SimPEG.InvProblem is setting bfgsH0 to the inverse of the eval2Deriv.\n",
        "                    ***Done using same solver as the problem***\n",
        "============================ Inexact Gauss Newton ============================"
       ]
      },
      {
       "output_type": "stream",
       "stream": "stdout",
       "text": [
        "\n",
        "  #     beta     phi_d     phi_m       f      |proj(x-g)-x|  LS    Comment   \n",
        "-----------------------------------------------------------------------------\n",
        "   0  4.35e-02  2.61e+01  0.00e+00  2.61e+01    2.53e+00      0              "
       ]
      },
      {
       "output_type": "stream",
       "stream": "stdout",
       "text": [
        "\n",
        "   1  4.35e-02  2.37e+01  3.39e+00  2.39e+01    3.59e+01      1              "
       ]
      },
      {
       "output_type": "stream",
       "stream": "stdout",
       "text": [
        "\n",
        "   2  8.70e-03  1.01e+01  2.69e+00  1.01e+01    6.20e+00      0              "
       ]
      },
      {
       "output_type": "stream",
       "stream": "stdout",
       "text": [
        "\n",
        "   3  8.70e-03  9.60e+00  3.99e+00  9.63e+00    7.21e+00      4   Skip BFGS  "
       ]
      },
      {
       "output_type": "stream",
       "stream": "stdout",
       "text": [
        "\n",
        "   4  1.74e-03  9.30e+00  4.45e+00  9.30e+00    6.99e+00      5              "
       ]
      },
      {
       "output_type": "stream",
       "stream": "stdout",
       "text": [
        "\n",
        "   5  1.74e-03  8.99e+00  5.61e+00  9.00e+00    8.82e+00      4              "
       ]
      },
      {
       "output_type": "stream",
       "stream": "stdout",
       "text": [
        "\n",
        "------------------------- STOP! -------------------------\n",
        "1 : |fc-fOld| = 3.0143e-01 <= tolF*(1+|f0|) = 2.7118e+00\n",
        "1 : |xc-x_last| = 1.5306e+00 <= tolX*(1+|x0|) = 3.3292e+00\n",
        "0 : |proj(x-g)-x|    = 8.8151e+00 <= tolG          = 1.0000e-01\n",
        "0 : |proj(x-g)-x|    = 8.8151e+00 <= 1e3*eps       = 1.0000e-02\n",
        "1 : maxIter   =       5    <= iter          =      5\n",
        "------------------------- DONE! -------------------------\n",
        "SimPEG.InvProblem will set Regularization.mref to m0.\n",
        "SimPEG.InvProblem is setting bfgsH0 to the inverse of the eval2Deriv.\n",
        "                    ***Done using same solver as the problem***\n",
        "============================ Inexact Gauss Newton ============================"
       ]
      },
      {
       "output_type": "stream",
       "stream": "stdout",
       "text": [
        "\n",
        "  #     beta     phi_d     phi_m       f      |proj(x-g)-x|  LS    Comment   \n",
        "-----------------------------------------------------------------------------\n",
        "   0  5.38e-02  2.49e+01  0.00e+00  2.49e+01    2.67e+00      0              "
       ]
      },
      {
       "output_type": "stream",
       "stream": "stdout",
       "text": [
        "\n",
        "   1  5.38e-02  1.30e+01  2.09e+00  1.31e+01    8.10e+00      1              "
       ]
      },
      {
       "output_type": "stream",
       "stream": "stdout",
       "text": [
        "\n",
        "   2  1.08e-02  1.12e+01  1.77e+00  1.12e+01    1.27e+00      0              "
       ]
      },
      {
       "output_type": "stream",
       "stream": "stdout",
       "text": [
        "\n",
        "   3  1.08e-02  1.08e+01  3.11e+00  1.08e+01    4.09e+00      4   Skip BFGS  "
       ]
      },
      {
       "output_type": "stream",
       "stream": "stdout",
       "text": [
        "\n",
        "   4  2.15e-03  1.03e+01  4.21e+00  1.03e+01    4.87e+00      4              "
       ]
      },
      {
       "output_type": "stream",
       "stream": "stdout",
       "text": [
        "\n",
        "   5  2.15e-03  9.53e+00  5.21e+00  9.54e+00    5.23e+00      4   Skip BFGS  "
       ]
      },
      {
       "output_type": "stream",
       "stream": "stdout",
       "text": [
        "\n",
        "------------------------- STOP! -------------------------\n",
        "1 : |fc-fOld| = 7.1712e-01 <= tolF*(1+|f0|) = 2.5890e+00\n",
        "1 : |xc-x_last| = 1.3579e+00 <= tolX*(1+|x0|) = 3.3292e+00\n",
        "0 : |proj(x-g)-x|    = 5.2342e+00 <= tolG          = 1.0000e-01\n",
        "0 : |proj(x-g)-x|    = 5.2342e+00 <= 1e3*eps       = 1.0000e-02\n",
        "1 : maxIter   =       5    <= iter          =      5\n",
        "------------------------- DONE! -------------------------\n",
        "SimPEG.InvProblem will set Regularization.mref to m0.\n",
        "SimPEG.InvProblem is setting bfgsH0 to the inverse of the eval2Deriv.\n",
        "                    ***Done using same solver as the problem***\n",
        "============================ Inexact Gauss Newton ============================"
       ]
      },
      {
       "output_type": "stream",
       "stream": "stdout",
       "text": [
        "\n",
        "  #     beta     phi_d     phi_m       f      |proj(x-g)-x|  LS    Comment   \n",
        "-----------------------------------------------------------------------------\n",
        "   0  3.09e-02  2.43e+01  0.00e+00  2.43e+01    2.69e+00      0              "
       ]
      },
      {
       "output_type": "stream",
       "stream": "stdout",
       "text": [
        "\n",
        "   1  3.09e-02  1.30e+01  1.90e+00  1.31e+01    6.79e+00      1              "
       ]
      },
      {
       "output_type": "stream",
       "stream": "stdout",
       "text": [
        "\n",
        "   2  6.18e-03  1.16e+01  1.61e+00  1.16e+01    1.02e+00      0              "
       ]
      },
      {
       "output_type": "stream",
       "stream": "stdout",
       "text": [
        "\n",
        "   3  6.18e-03  1.11e+01  2.29e+00  1.11e+01    1.97e+00      5   Skip BFGS  "
       ]
      },
      {
       "output_type": "stream",
       "stream": "stdout",
       "text": [
        "\n",
        "   4  1.24e-03  1.04e+01  3.91e+00  1.04e+01    3.78e+00      4              "
       ]
      },
      {
       "output_type": "stream",
       "stream": "stdout",
       "text": [
        "\n",
        "   5  1.24e-03  9.59e+00  5.15e+00  9.59e+00    4.25e+00      4              "
       ]
      },
      {
       "output_type": "stream",
       "stream": "stdout",
       "text": [
        "\n",
        "------------------------- STOP! -------------------------\n",
        "1 : |fc-fOld| = 8.1512e-01 <= tolF*(1+|f0|) = 2.5318e+00\n",
        "1 : |xc-x_last| = 1.5887e+00 <= tolX*(1+|x0|) = 3.3292e+00\n",
        "0 : |proj(x-g)-x|    = 4.2513e+00 <= tolG          = 1.0000e-01\n",
        "0 : |proj(x-g)-x|    = 4.2513e+00 <= 1e3*eps       = 1.0000e-02\n",
        "1 : maxIter   =       5    <= iter          =      5\n",
        "------------------------- DONE! -------------------------\n",
        "SimPEG.InvProblem will set Regularization.mref to m0.\n",
        "SimPEG.InvProblem is setting bfgsH0 to the inverse of the eval2Deriv.\n",
        "                    ***Done using same solver as the problem***\n",
        "============================ Inexact Gauss Newton ============================"
       ]
      },
      {
       "output_type": "stream",
       "stream": "stdout",
       "text": [
        "\n",
        "  #     beta     phi_d     phi_m       f      |proj(x-g)-x|  LS    Comment   \n",
        "-----------------------------------------------------------------------------\n",
        "   0  1.10e-01  2.20e+01  0.00e+00  2.20e+01    2.84e+00      0              "
       ]
      },
      {
       "output_type": "stream",
       "stream": "stdout",
       "text": [
        "\n",
        "   1  1.10e-01  9.55e+00  2.73e+00  9.85e+00    2.22e+00      1              "
       ]
      },
      {
       "output_type": "stream",
       "stream": "stdout",
       "text": [
        "\n",
        "   2  2.19e-02  5.65e+00  5.89e+00  5.78e+00    1.21e+00      2              "
       ]
      },
      {
       "output_type": "stream",
       "stream": "stdout",
       "text": [
        "\n",
        "   3  2.19e-02  3.00e+00  8.95e+00  3.20e+00    1.09e+00      2              "
       ]
      },
      {
       "output_type": "stream",
       "stream": "stdout",
       "text": [
        "\n",
        "   4  4.39e-03  2.93e+00  8.41e+00  2.97e+00    4.17e+00      2              "
       ]
      },
      {
       "output_type": "stream",
       "stream": "stdout",
       "text": [
        "\n",
        "   5  4.39e-03  2.45e+00  8.73e+00  2.49e+00    4.17e+00      2              "
       ]
      },
      {
       "output_type": "stream",
       "stream": "stdout",
       "text": [
        "\n",
        "------------------------- STOP! -------------------------\n",
        "1 : |fc-fOld| = 4.8060e-01 <= tolF*(1+|f0|) = 2.2976e+00\n",
        "1 : |xc-x_last| = 9.5339e-01 <= tolX*(1+|x0|) = 3.3292e+00\n",
        "0 : |proj(x-g)-x|    = 4.1650e+00 <= tolG          = 1.0000e-01\n",
        "0 : |proj(x-g)-x|    = 4.1650e+00 <= 1e3*eps       = 1.0000e-02\n",
        "1 : maxIter   =       5    <= iter          =      5\n",
        "------------------------- DONE! -------------------------\n",
        "SimPEG.InvProblem will set Regularization.mref to m0.\n",
        "SimPEG.InvProblem is setting bfgsH0 to the inverse of the eval2Deriv.\n",
        "                    ***Done using same solver as the problem***\n",
        "============================ Inexact Gauss Newton ============================"
       ]
      },
      {
       "output_type": "stream",
       "stream": "stdout",
       "text": [
        "\n",
        "  #     beta     phi_d     phi_m       f      |proj(x-g)-x|  LS    Comment   \n",
        "-----------------------------------------------------------------------------\n",
        "   0  1.89e-01  2.07e+01  0.00e+00  2.07e+01    2.88e+00      0              "
       ]
      },
      {
       "output_type": "stream",
       "stream": "stdout",
       "text": [
        "\n",
        "   1  1.89e-01  1.21e+01  7.70e-01  1.22e+01    1.51e+00      1              "
       ]
      },
      {
       "output_type": "stream",
       "stream": "stdout",
       "text": [
        "\n",
        "   2  3.79e-02  1.08e+01  2.88e+00  1.10e+01    3.30e+00      1   Skip BFGS  "
       ]
      },
      {
       "output_type": "stream",
       "stream": "stdout",
       "text": [
        "\n",
        "   3  3.79e-02  1.06e+01  4.89e+00  1.07e+01    5.59e+00      3              "
       ]
      },
      {
       "output_type": "stream",
       "stream": "stdout",
       "text": [
        "\n",
        "   4  7.58e-03  9.87e+00  6.53e+00  9.92e+00    5.84e+00      3              "
       ]
      },
      {
       "output_type": "stream",
       "stream": "stdout",
       "text": [
        "\n",
        "   5  7.58e-03  8.91e+00  7.94e+00  8.97e+00    5.86e+00      3   Skip BFGS  "
       ]
      },
      {
       "output_type": "stream",
       "stream": "stdout",
       "text": [
        "\n",
        "------------------------- STOP! -------------------------\n",
        "1 : |fc-fOld| = 9.5625e-01 <= tolF*(1+|f0|) = 2.1746e+00\n",
        "1 : |xc-x_last| = 1.6570e+00 <= tolX*(1+|x0|) = 3.3292e+00\n",
        "0 : |proj(x-g)-x|    = 5.8550e+00 <= tolG          = 1.0000e-01\n",
        "0 : |proj(x-g)-x|    = 5.8550e+00 <= 1e3*eps       = 1.0000e-02\n",
        "1 : maxIter   =       5    <= iter          =      5\n",
        "------------------------- DONE! -------------------------\n",
        "SimPEG.InvProblem will set Regularization.mref to m0.\n",
        "SimPEG.InvProblem is setting bfgsH0 to the inverse of the eval2Deriv.\n",
        "                    ***Done using same solver as the problem***\n",
        "============================ Inexact Gauss Newton ============================"
       ]
      },
      {
       "output_type": "stream",
       "stream": "stdout",
       "text": [
        "\n",
        "  #     beta     phi_d     phi_m       f      |proj(x-g)-x|  LS    Comment   \n",
        "-----------------------------------------------------------------------------\n",
        "   0  1.38e-01  1.88e+01  0.00e+00  1.88e+01    2.83e+00      0              "
       ]
      },
      {
       "output_type": "stream",
       "stream": "stdout",
       "text": [
        "\n",
        "   1  1.38e-01  1.21e+01  6.31e+00  1.30e+01    6.05e+00      0              "
       ]
      },
      {
       "output_type": "stream",
       "stream": "stdout",
       "text": [
        "\n",
        "   2  2.76e-02  9.87e+00  8.68e+00  1.01e+01    5.29e+00      2              "
       ]
      },
      {
       "output_type": "stream",
       "stream": "stdout",
       "text": [
        "\n",
        "   3  2.76e-02  8.37e+00  1.12e+01  8.68e+00    5.26e+00      2              "
       ]
      },
      {
       "output_type": "stream",
       "stream": "stdout",
       "text": [
        "\n",
        "   4  5.52e-03  8.06e+00  1.07e+01  8.12e+00    5.07e+00      4              "
       ]
      },
      {
       "output_type": "stream",
       "stream": "stdout",
       "text": [
        "\n",
        "   5  5.52e-03  7.93e+00  1.00e+01  7.98e+00    5.00e+00      5              "
       ]
      },
      {
       "output_type": "stream",
       "stream": "stdout",
       "text": [
        "\n",
        "------------------------- STOP! -------------------------\n",
        "1 : |fc-fOld| = 1.3837e-01 <= tolF*(1+|f0|) = 1.9813e+00\n",
        "1 : |xc-x_last| = 7.8702e-01 <= tolX*(1+|x0|) = 3.3292e+00\n",
        "0 : |proj(x-g)-x|    = 4.9951e+00 <= tolG          = 1.0000e-01\n",
        "0 : |proj(x-g)-x|    = 4.9951e+00 <= 1e3*eps       = 1.0000e-02\n",
        "1 : maxIter   =       5    <= iter          =      5\n",
        "------------------------- DONE! -------------------------\n",
        "SimPEG.InvProblem will set Regularization.mref to m0.\n",
        "SimPEG.InvProblem is setting bfgsH0 to the inverse of the eval2Deriv.\n",
        "                    ***Done using same solver as the problem***\n",
        "============================ Inexact Gauss Newton ============================"
       ]
      },
      {
       "output_type": "stream",
       "stream": "stdout",
       "text": [
        "\n",
        "  #     beta     phi_d     phi_m       f      |proj(x-g)-x|  LS    Comment   \n",
        "-----------------------------------------------------------------------------\n",
        "   0  1.62e-01  1.62e+01  0.00e+00  1.62e+01    2.54e+00      0              "
       ]
      },
      {
       "output_type": "stream",
       "stream": "stdout",
       "text": [
        "\n",
        "   1  1.62e-01  1.11e+01  4.54e+00  1.19e+01    2.87e+00      0              "
       ]
      },
      {
       "output_type": "stream",
       "stream": "stdout",
       "text": [
        "\n",
        "   2  3.24e-02  9.16e+00  7.31e+00  9.40e+00    2.75e+00      2              "
       ]
      },
      {
       "output_type": "stream",
       "stream": "stdout",
       "text": [
        "\n",
        "   3  3.24e-02  6.91e+00  1.08e+01  7.26e+00    2.97e+00      2              "
       ]
      },
      {
       "output_type": "stream",
       "stream": "stdout",
       "text": [
        "\n",
        "   4  6.47e-03  6.46e+00  9.92e+00  6.52e+00    3.18e+00      3              "
       ]
      },
      {
       "output_type": "stream",
       "stream": "stdout",
       "text": [
        "\n",
        "   5  6.47e-03  6.38e+00  8.68e+00  6.43e+00    3.64e+00      4              "
       ]
      },
      {
       "output_type": "stream",
       "stream": "stdout",
       "text": [
        "\n",
        "------------------------- STOP! -------------------------\n",
        "1 : |fc-fOld| = 9.0493e-02 <= tolF*(1+|f0|) = 1.7185e+00\n",
        "1 : |xc-x_last| = 1.4828e+00 <= tolX*(1+|x0|) = 3.3292e+00\n",
        "0 : |proj(x-g)-x|    = 3.6427e+00 <= tolG          = 1.0000e-01\n",
        "0 : |proj(x-g)-x|    = 3.6427e+00 <= 1e3*eps       = 1.0000e-02\n",
        "1 : maxIter   =       5    <= iter          =      5\n",
        "------------------------- DONE! -------------------------\n",
        "SimPEG.InvProblem will set Regularization.mref to m0.\n",
        "SimPEG.InvProblem is setting bfgsH0 to the inverse of the eval2Deriv.\n",
        "                    ***Done using same solver as the problem***\n",
        "============================ Inexact Gauss Newton ============================"
       ]
      },
      {
       "output_type": "stream",
       "stream": "stdout",
       "text": [
        "\n",
        "  #     beta     phi_d     phi_m       f      |proj(x-g)-x|  LS    Comment   \n",
        "-----------------------------------------------------------------------------\n",
        "   0  1.33e-01  1.50e+01  0.00e+00  1.50e+01    2.12e+00      0              "
       ]
      },
      {
       "output_type": "stream",
       "stream": "stdout",
       "text": [
        "\n",
        "   1  1.33e-01  1.34e+01  7.09e+00  1.43e+01    5.93e+00      0              "
       ]
      },
      {
       "output_type": "stream",
       "stream": "stdout",
       "text": [
        "\n",
        "   2  2.65e-02  1.06e+01  9.84e+00  1.08e+01    4.62e+00      2              "
       ]
      },
      {
       "output_type": "stream",
       "stream": "stdout",
       "text": [
        "\n",
        "   3  2.65e-02  8.48e+00  1.24e+01  8.81e+00    4.06e+00      2              "
       ]
      },
      {
       "output_type": "stream",
       "stream": "stdout",
       "text": [
        "\n",
        "   4  5.30e-03  8.36e+00  1.15e+01  8.42e+00    4.52e+00      3              "
       ]
      },
      {
       "output_type": "stream",
       "stream": "stdout",
       "text": [
        "\n",
        "   5  5.30e-03  7.61e+00  1.17e+01  7.67e+00    4.17e+00      2              "
       ]
      },
      {
       "output_type": "stream",
       "stream": "stdout",
       "text": [
        "\n",
        "------------------------- STOP! -------------------------\n",
        "1 : |fc-fOld| = 7.5320e-01 <= tolF*(1+|f0|) = 1.6013e+00\n",
        "1 : |xc-x_last| = 1.8709e+00 <= tolX*(1+|x0|) = 3.3292e+00\n",
        "0 : |proj(x-g)-x|    = 4.1739e+00 <= tolG          = 1.0000e-01\n",
        "0 : |proj(x-g)-x|    = 4.1739e+00 <= 1e3*eps       = 1.0000e-02\n",
        "1 : maxIter   =       5    <= iter          =      5\n",
        "------------------------- DONE! -------------------------\n"
       ]
      }
     ],
     "prompt_number": 31
    },
    {
     "cell_type": "code",
     "collapsed": false,
     "input": [
      "# fig, ax = plt.subplots(1,1, figsize = (3, 6))\n",
      "# Utils1D.plotLayer(np.exp(mopt), mesh.vectorCCz[active], showlayers=True, ax = ax)\n",
      "# ax.set_ylim(-500., 0.)"
     ],
     "language": "python",
     "metadata": {},
     "outputs": [
      {
       "metadata": {},
       "output_type": "pyout",
       "prompt_number": 29,
       "text": [
        "(-500.0, 0.0)"
       ]
      },
      {
       "metadata": {},
       "output_type": "display_data",
       "png": "[encoded data removed]",
       "text": [
        "<matplotlib.figure.Figure at 0xbc72f60>"
       ]
      }
     ],
     "prompt_number": 29
    },
    {
     "cell_type": "code",
     "collapsed": false,
     "input": [
      "# plt.semilogy(abs(invProb.dpred.reshape((2,3), order='F')[0,:]), 'b.-')\n",
      "# plt.semilogy(abs(invProb.dpred.reshape((2,3), order='F')[1,:]), 'r.-')\n",
      "# plt.semilogy(abs(survey.dobs.reshape((2,3), order='F')[0,:]), 'bo')\n",
      "# plt.semilogy(abs(survey.dobs.reshape((2,3), order='F')[1,:]), 'ro')\n"
     ],
     "language": "python",
     "metadata": {},
     "outputs": [
      {
       "metadata": {},
       "output_type": "pyout",
       "prompt_number": 30,
       "text": [
        "[<matplotlib.lines.Line2D at 0xa984b00>]"
       ]
      },
      {
       "metadata": {},
       "output_type": "display_data",
       "png": "[encoded data removed]",
       "text": [
        "<matplotlib.figure.Figure at 0xa7429e8>"
       ]
      }
     ],
     "prompt_number": 30
    },
    {
     "cell_type": "code",
     "collapsed": false,
     "input": [
      "np.save('Mopt2_realistic_FD', Mopt)\n",
      "np.save('Dest2_realistic_FD', Dest)"
     ],
     "language": "python",
     "metadata": {},
     "outputs": [],
     "prompt_number": 34
    },
    {
     "cell_type": "code",
     "collapsed": false,
     "input": [
      "Mopt = np.load('Mopt2_realistic_FD.npy')\n",
      "Dest = np.load('Dest2_realistic_FD.npy')"
     ],
     "language": "python",
     "metadata": {},
     "outputs": [],
     "prompt_number": 35
    },
    {
     "cell_type": "code",
     "collapsed": false,
     "input": [
      "SigMat = np.exp(np.vstack(Mopt))\n",
      "DpreMat = np.vstack(Dest)\n",
      "DpreMatR = DpreMat[:,[0,2,4]]\n",
      "DpreMatI = DpreMat[:,[1,3,5]]"
     ],
     "language": "python",
     "metadata": {},
     "outputs": [],
     "prompt_number": 44
    },
    {
     "cell_type": "code",
     "collapsed": false,
     "input": [
      "plt.pcolor(X, Z, np.log10(SigMat))\n",
      "plt.ylim(-700, 0.)"
     ],
     "language": "python",
     "metadata": {},
     "outputs": [
      {
       "metadata": {},
       "output_type": "pyout",
       "prompt_number": 45,
       "text": [
        "(-700, 0.0)"
       ]
      },
      {
       "metadata": {},
       "output_type": "display_data",
       "png": "[encoded data removed]",
       "text": [
        "<matplotlib.figure.Figure at 0xb91ab38>"
       ]
      }
     ],
     "prompt_number": 45
    },
    {
     "cell_type": "code",
     "collapsed": false,
     "input": [
      "plt.semilogy(xyz2[ind,0], -DpreMatR[:,0], 'k')\n",
      "plt.semilogy(xyz2[ind,0], -DpreMatR[:,1], 'b')\n",
      "plt.semilogy(xyz2[ind,0],-DpreMatR[:,2], 'r')\n",
      "plt.semilogy(xyz2[ind,0], -DobsLine[:,0,0,1], 'ko')\n",
      "plt.semilogy(xyz2[ind,0], -DobsLine[:,0,1,1], 'bo')\n",
      "plt.semilogy(xyz2[ind,0],-DobsLine[:,0,2,1], 'ro')"
     ],
     "language": "python",
     "metadata": {},
     "outputs": [
      {
       "metadata": {},
       "output_type": "pyout",
       "prompt_number": 47,
       "text": [
        "[<matplotlib.lines.Line2D at 0xada5908>]"
       ]
      },
      {
       "metadata": {},
       "output_type": "display_data",
       "png": "[encoded data removed]",
       "text": [
        "<matplotlib.figure.Figure at 0xb4e06a0>"
       ]
      }
     ],
     "prompt_number": 47
    },
    {
     "cell_type": "code",
     "collapsed": false,
     "input": [
      "plt.semilogy(xyz2[ind,0], -DpreMatI[:,0], 'k')\n",
      "plt.semilogy(xyz2[ind,0], -DpreMatI[:,1], 'b')\n",
      "plt.semilogy(xyz2[ind,0],-DpreMatI[:,2], 'r')\n",
      "plt.semilogy(xyz2[ind,0], -DobsLine[:,1,0,1], 'ko')\n",
      "plt.semilogy(xyz2[ind,0], -DobsLine[:,1,1,1], 'bo')\n",
      "plt.semilogy(xyz2[ind,0],-DobsLine[:,1,2,1], 'ro')"
     ],
     "language": "python",
     "metadata": {},
     "outputs": [
      {
       "metadata": {},
       "output_type": "pyout",
       "prompt_number": 53,
       "text": [
        "[<matplotlib.lines.Line2D at 0xb916828>]"
       ]
      },
      {
       "metadata": {},
       "output_type": "display_data",
       "png": "[encoded data removed]",
       "text": [
        "<matplotlib.figure.Figure at 0x113d8a58>"
       ]
      }
     ],
     "prompt_number": 53
    },
    {
     "cell_type": "code",
     "collapsed": false,
     "input": [
      "fig, ax = plt.subplots(1,2, figsize = (12, 5))\n",
      "vmin = np.log10(Utils.mkvc(SigMat).min())\n",
      "vmax = np.log10(Utils.mkvc(SigMat).max())\n",
      "ax[0].contourf(X, Z, np.log10(SigMat), 31, vmin = -3, vmax = -1)\n",
      "mesh3D.plotSlice(np.log10(sigma3D), ind = 20, normal='Y', ax = ax[1], clim=(-3, -1))\n",
      "for i in range(2):\n",
      "    ax[i].set_ylim(-700., 0.)\n",
      "    ax[i].set_xlim(10., 300.)"
     ],
     "language": "python",
     "metadata": {},
     "outputs": [
      {
       "metadata": {},
       "output_type": "display_data",
       "png": "[encoded data removed]",
       "text": [
        "<matplotlib.figure.Figure at 0x1138b240>"
       ]
      }
     ],
     "prompt_number": 49
    }
   ],
   "metadata": {}
  }
 ]
}