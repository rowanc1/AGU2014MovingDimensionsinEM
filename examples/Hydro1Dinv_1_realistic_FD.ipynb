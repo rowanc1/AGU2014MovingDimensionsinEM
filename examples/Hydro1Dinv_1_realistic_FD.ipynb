{
 "metadata": {
  "name": "",
  "signature": "sha256:30bf5b3fa7c86c547cdfaf50e78f848b02575e8a3802a875f223a2260bad10d7"
 },
 "nbformat": 3,
 "nbformat_minor": 0,
 "worksheets": [
  {
   "cells": [
    {
     "cell_type": "code",
     "collapsed": false,
     "input": [
      "from SimPEG import *\n",
      "import simpegEM as EM\n",
      "from simpegem1d import Utils1D\n",
      "%pylab inline"
     ],
     "language": "python",
     "metadata": {},
     "outputs": [
      {
       "output_type": "stream",
       "stream": "stdout",
       "text": [
        "Populating the interactive namespace from numpy and matplotlib\n"
       ]
      }
     ],
     "prompt_number": 1
    },
    {
     "cell_type": "code",
     "collapsed": false,
     "input": [
      "mesh3D = Utils.meshutils.readUBCTensorMesh('mesh.msh')\n",
      "sigma3D = Utils.meshutils.readUBCTensorModel('sigma_realistic.con', mesh3D)"
     ],
     "language": "python",
     "metadata": {},
     "outputs": [],
     "prompt_number": 2
    },
    {
     "cell_type": "code",
     "collapsed": false,
     "input": [
      "x1 = np.arange(30)*10 - 300.\n",
      "y1 = np.arange(30)*10 - 150.\n",
      "xyz1 = Utils.ndgrid(x1, y1, np.r_[0.])\n",
      "xc1 = -150\n",
      "yc1 = 0.\n",
      "r1 = np.sqrt((xyz1[:,0]-xc1)**2+(xyz1[:,1]-yc1)**2)"
     ],
     "language": "python",
     "metadata": {},
     "outputs": [],
     "prompt_number": 3
    },
    {
     "cell_type": "code",
     "collapsed": false,
     "input": [
      "frequency = np.r_[1., 10., 100.]"
     ],
     "language": "python",
     "metadata": {},
     "outputs": [],
     "prompt_number": 7
    },
    {
     "cell_type": "code",
     "collapsed": false,
     "input": [
      "dobs = np.load('bzobs_FD_realistic.npy')\n",
      "Dobs = dobs.reshape((900, 2, frequency.size, 2), order='F')\n",
      "Dobsr1 = Dobs[:,0,:,0]\n",
      "Dobsi1 = Dobs[:,1,:,0]\n",
      "Dobsr2 = Dobs[:,0,:,1]\n",
      "Dobsi2 = Dobs[:,1,:,1]"
     ],
     "language": "python",
     "metadata": {},
     "outputs": [],
     "prompt_number": 9
    },
    {
     "cell_type": "code",
     "collapsed": false,
     "input": [
      "meshType = 'CYL'\n",
      "cs, ncx, ncz, npad = 20., 25, 30, 12\n",
      "hx = [(cs,ncx), (cs,npad,1.3)]\n",
      "hz = [(cs,npad,-1.4), (cs,ncz), (cs,npad,1.4)]\n",
      "mesh = Mesh.CylMesh([hx,1,hz], '00C')"
     ],
     "language": "python",
     "metadata": {},
     "outputs": [],
     "prompt_number": 10
    },
    {
     "cell_type": "code",
     "collapsed": false,
     "input": [
      "active = mesh.vectorCCz<0.\n",
      "layer1 = (mesh.vectorCCz<0.) & (mesh.vectorCCz>=-60.)\n",
      "layer2 = (mesh.vectorCCz<-60) & (mesh.vectorCCz>=-100.)\n",
      "layer3 = (mesh.vectorCCz<-100) & (mesh.vectorCCz>=-200.)\n",
      "actMap = Maps.ActiveCells(mesh, active, np.log(1e-8), nC=mesh.nCz)\n",
      "mapping = Maps.ExpMap(mesh) * Maps.Vertical1DMap(mesh) * actMap"
     ],
     "language": "python",
     "metadata": {},
     "outputs": [],
     "prompt_number": 11
    },
    {
     "cell_type": "code",
     "collapsed": false,
     "input": [
      "sig_half = 1e-3\n",
      "sig_air = 1e-8\n",
      "sig_layer1 = 1./300\n",
      "sig_layer2 = 1./100\n",
      "sig_layer3 = 1./10\n",
      "sigma = np.ones(mesh.nCz)*sig_air\n",
      "sigma[active] = sig_half\n",
      "sigma[layer1] = sig_layer1\n",
      "sigma[layer2] = sig_layer2\n",
      "sigma[layer3] = sig_layer3\n",
      "mtrue = np.log(sigma[active])"
     ],
     "language": "python",
     "metadata": {},
     "outputs": [],
     "prompt_number": 12
    },
    {
     "cell_type": "code",
     "collapsed": false,
     "input": [
      "xc = -100\n",
      "yc = 100.\n",
      "dind = np.argmin(abs( xyz1[:,0]-xc)+abs( xyz1[:,1]-yc))"
     ],
     "language": "python",
     "metadata": {},
     "outputs": [],
     "prompt_number": 13
    },
    {
     "cell_type": "code",
     "collapsed": false,
     "input": [
      "def circfun(xc, yc, r, npoint):\n",
      "    theta = np.linspace(np.pi, -np.pi, npoint)\n",
      "    x = r*np.cos(theta)\n",
      "    y = r*np.sin(theta)\n",
      "    return x+xc, y+yc"
     ],
     "language": "python",
     "metadata": {},
     "outputs": [],
     "prompt_number": 14
    },
    {
     "cell_type": "code",
     "collapsed": false,
     "input": [
      "xcirc1, ycirc1 = circfun(-150., 0., 250., 60)\n",
      "xcirc2, ycirc2 = circfun(150., 0., 250., 60)"
     ],
     "language": "python",
     "metadata": {},
     "outputs": [],
     "prompt_number": 15
    },
    {
     "cell_type": "code",
     "collapsed": false,
     "input": [
      "ind = np.argwhere(xyz1[:,1]==0.).flatten()"
     ],
     "language": "python",
     "metadata": {},
     "outputs": [],
     "prompt_number": 31
    },
    {
     "cell_type": "code",
     "collapsed": false,
     "input": [
      "DobsLine = Dobs[ind,:,:,:]"
     ],
     "language": "python",
     "metadata": {},
     "outputs": [],
     "prompt_number": 32
    },
    {
     "cell_type": "code",
     "collapsed": false,
     "input": [
      "plt.plot(DobsLine[0,0,:,1], 'b.-')\n",
      "plt.plot(DobsLine[0,1,:,1], 'k.-')"
     ],
     "language": "python",
     "metadata": {},
     "outputs": [
      {
       "metadata": {},
       "output_type": "pyout",
       "prompt_number": 77,
       "text": [
        "[<matplotlib.lines.Line2D at 0xf3c8cc0>]"
       ]
      },
      {
       "metadata": {},
       "output_type": "display_data",
       "png": "[encoded data removed]",
       "text": [
        "<matplotlib.figure.Figure at 0xf3c8630>"
       ]
      }
     ],
     "prompt_number": 77
    },
    {
     "cell_type": "code",
     "collapsed": false,
     "input": [
      "print Dobs.shape\n",
      "print DobsLine.shape"
     ],
     "language": "python",
     "metadata": {},
     "outputs": [
      {
       "output_type": "stream",
       "stream": "stdout",
       "text": [
        "(900L, 2L, 3L, 2L)\n",
        "(30L, 2L, 3L, 2L)\n"
       ]
      }
     ],
     "prompt_number": 34
    },
    {
     "cell_type": "code",
     "collapsed": false,
     "input": [
      "# Dobs = dobs.reshape((900, 2, frequency.size, 2), order='F')\n",
      "# Dobsr1 = Dobs[:,0,:,0]"
     ],
     "language": "python",
     "metadata": {},
     "outputs": []
    },
    {
     "cell_type": "code",
     "collapsed": false,
     "input": [
      "fig, ax = plt.subplots(1,1, figsize=(7,3))\n",
      "indz = 20\n",
      "print mesh.vectorCCz[indz]\n",
      "mesh3D.plotSlice(np.log10(sigma3D), ind = indz, ax = ax, clim=(-3, -0.5))\n",
      "ax.plot(xyz1[:,0], xyz1[:,1], 'r.')\n",
      "ax.plot(xyz1[ind,0], xyz1[ind,1], 'k.', ms=10)\n",
      "# ax.plot(xyz2[:,0], xyz2[:,1], 'b.')\n",
      "ax.plot(xcirc1, ycirc1, 'r-')\n",
      "# ax.plot(xcirc2, ycirc2, 'b-')\n",
      "ax.set_xlim(-500, 500)\n",
      "ax.set_ylim(-300, 300)"
     ],
     "language": "python",
     "metadata": {},
     "outputs": [
      {
       "output_type": "stream",
       "stream": "stdout",
       "text": [
        "-130.0\n"
       ]
      },
      {
       "metadata": {},
       "output_type": "pyout",
       "prompt_number": 17,
       "text": [
        "(-300, 300)"
       ]
      },
      {
       "metadata": {},
       "output_type": "display_data",
       "png": "[encoded data removed]",
       "text": [
        "<matplotlib.figure.Figure at 0xae06898>"
       ]
      }
     ],
     "prompt_number": 17
    },
    {
     "cell_type": "code",
     "collapsed": false,
     "input": [
      "sig_test = (sigma[active])"
     ],
     "language": "python",
     "metadata": {},
     "outputs": [],
     "prompt_number": 18
    },
    {
     "cell_type": "code",
     "collapsed": false,
     "input": [
      "Sig_test = (sig_test.reshape([1,-1])).repeat(10, axis=0)\n",
      "x = xyz1[ind,0]\n",
      "z = mesh.vectorCCz[active]\n",
      "Z, X = np.meshgrid(z, x)"
     ],
     "language": "python",
     "metadata": {},
     "outputs": [],
     "prompt_number": 19
    },
    {
     "cell_type": "code",
     "collapsed": false,
     "input": [
      "\n",
      "z = mesh.vectorCCz[active]\n",
      "Time, Xtime = np.meshgrid(time, x)"
     ],
     "language": "python",
     "metadata": {},
     "outputs": [],
     "prompt_number": 20
    },
    {
     "cell_type": "code",
     "collapsed": false,
     "input": [
      "fig, ax = plt.subplots(1,1, figsize = (3, 6))\n",
      "Utils1D.plotLayer(sig_test, mesh.vectorCCz[active], showlayers=True, ax = ax)\n",
      "ax.set_ylim(-300., 0.)"
     ],
     "language": "python",
     "metadata": {},
     "outputs": [
      {
       "metadata": {},
       "output_type": "pyout",
       "prompt_number": 21,
       "text": [
        "(-300.0, 0.0)"
       ]
      },
      {
       "metadata": {},
       "output_type": "display_data",
       "png": "[encoded data removed]",
       "text": [
        "<matplotlib.figure.Figure at 0xadf4d68>"
       ]
      }
     ],
     "prompt_number": 21
    },
    {
     "cell_type": "code",
     "collapsed": false,
     "input": [
      "test = survey.dpred(np.log(sigma[active]))"
     ],
     "language": "python",
     "metadata": {},
     "outputs": [],
     "prompt_number": 44
    },
    {
     "cell_type": "code",
     "collapsed": false,
     "input": [
      "prb = EM.FDEM.ProblemFDEM_b(mesh, mapping=mapping, verbose=False)"
     ],
     "language": "python",
     "metadata": {},
     "outputs": [],
     "prompt_number": 22
    },
    {
     "cell_type": "code",
     "collapsed": false,
     "input": [
      "prb.Solver = SolverLU"
     ],
     "language": "python",
     "metadata": {},
     "outputs": [],
     "prompt_number": 20
    },
    {
     "cell_type": "code",
     "collapsed": false,
     "input": [
      "# Mopt = []\n",
      "# Dest=[]\n",
      "\n",
      "# for i in range(r1[ind].size):\n",
      "# # for i in range(1):\n",
      "# #     i = 29\n",
      "#     txList = []\n",
      "#     for freq in frequency:\n",
      "#         rxoffset=r1[ind][i]\n",
      "#         rxr = EM.FDEM.RxFDEM(np.array([[rxoffset, 0., 0.]]),'bzr')\n",
      "#         rxi = EM.FDEM.RxFDEM(np.array([[rxoffset, 0., 0.]]),'bzi')\n",
      "#         tx = EM.FDEM.TxFDEM(np.array([0., 0., 0.]), 'CircularLoop', freq, [rxr, rxi])\n",
      "#         tx.radius = 250.\n",
      "#         txList.append(tx)\n",
      "\n",
      "#     survey = EM.FDEM.SurveyFDEM(txList)\n",
      "#     if prb.ispaired:\n",
      "#         prb.unpair()\n",
      "#     if survey.ispaired:\n",
      "#         survey.unpair()\n",
      "#     prb.pair(survey)\n",
      "#     std = 0.2   \n",
      "#     survey.dobs = Utils.mkvc(DobsLine[i,:,:,0])\n",
      "#     survey.std = survey.dobs*0 + std\n",
      "#     dmisfit = DataMisfit.l2_DataMisfit(survey)\n",
      "#     dmisfit.Wd = 1/(abs(survey.dobs)*std+1e-12)\n",
      "#     regMesh = Mesh.TensorMesh([mesh.hz[mapping.maps[-1].indActive]])\n",
      "#     reg = Regularization.Tikhonov(regMesh)\n",
      "#     opt = Optimization.InexactGaussNewton(maxIter = 5)\n",
      "#     invProb = InvProblem.BaseInvProblem(dmisfit, reg, opt)\n",
      "#     # Create an inversion object\n",
      "#     beta = Directives.BetaSchedule(coolingFactor=5, coolingRate=2)\n",
      "#     betaest = Directives.BetaEstimate_ByEig(beta0_ratio=1e0)\n",
      "#     inv = Inversion.BaseInversion(invProb, directiveList=[beta,betaest])\n",
      "#     m0 = np.log(np.ones(mtrue.size)*2e-3)\n",
      "#     reg.alpha_s = 1e-2\n",
      "#     reg.alpha_x = 1.\n",
      "#     prb.counter = opt.counter = Utils.Counter()\n",
      "#     opt.LSshorten = 0.5\n",
      "#     opt.remember('xc')\n",
      "#     mopt = inv.run(m0)\n",
      "#     Mopt.append(mopt)\n",
      "#     Dest.append(invProb.dpred)"
     ],
     "language": "python",
     "metadata": {},
     "outputs": [],
     "prompt_number": 137
    },
    {
     "cell_type": "code",
     "collapsed": false,
     "input": [
      "# fig, ax = plt.subplots(1,1, figsize = (3, 6))\n",
      "# Utils1D.plotLayer(np.exp(mopt), mesh.vectorCCz[active], showlayers=True, ax = ax)\n",
      "# ax.set_ylim(-500., 0.)"
     ],
     "language": "python",
     "metadata": {},
     "outputs": []
    },
    {
     "cell_type": "code",
     "collapsed": false,
     "input": [
      "# plt.semilogy(abs(invProb.dpred.reshape((2,3), order='F')[0,:]), 'b.-')\n",
      "# plt.semilogy(abs(invProb.dpred.reshape((2,3), order='F')[1,:]), 'r.-')\n",
      "# plt.semilogy(abs(survey.dobs.reshape((2,3), order='F')[0,:]), 'bo')\n",
      "# plt.semilogy(abs(survey.dobs.reshape((2,3), order='F')[1,:]), 'ro')\n"
     ],
     "language": "python",
     "metadata": {},
     "outputs": [
      {
       "metadata": {},
       "output_type": "pyout",
       "prompt_number": 99,
       "text": [
        "[<matplotlib.lines.Line2D at 0x1266ce80>]"
       ]
      },
      {
       "metadata": {},
       "output_type": "display_data",
       "png": "[encoded data removed]",
       "text": [
        "<matplotlib.figure.Figure at 0x12685f60>"
       ]
      }
     ],
     "prompt_number": 99
    },
    {
     "cell_type": "code",
     "collapsed": false,
     "input": [
      "# np.save('Mopt1_realistic_FD', Mopt)\n",
      "# np.save('Dest1_realistic_FD', Dest)"
     ],
     "language": "python",
     "metadata": {},
     "outputs": [],
     "prompt_number": 138
    },
    {
     "cell_type": "code",
     "collapsed": false,
     "input": [
      "Mopt = np.load('Mopt1_realistic_FD.npy')\n",
      "Dest = np.load('Dest1_realistic_FD.npy')"
     ],
     "language": "python",
     "metadata": {},
     "outputs": [],
     "prompt_number": 115
    },
    {
     "cell_type": "code",
     "collapsed": false,
     "input": [
      "SigMat = np.exp(np.vstack(Mopt))\n",
      "DpreMat = np.vstack(Dest)\n",
      "DpreMatR = DpreMat[:,[0,2,4]]\n",
      "DpreMatI = DpreMat[:,[1,3,5]]"
     ],
     "language": "python",
     "metadata": {},
     "outputs": [],
     "prompt_number": 123
    },
    {
     "cell_type": "code",
     "collapsed": false,
     "input": [
      "plt.pcolor(X, Z, np.log10(SigMat))\n",
      "plt.ylim(-700, 0.)"
     ],
     "language": "python",
     "metadata": {},
     "outputs": [
      {
       "metadata": {},
       "output_type": "pyout",
       "prompt_number": 117,
       "text": [
        "(-700, 0.0)"
       ]
      },
      {
       "metadata": {},
       "output_type": "display_data",
       "png": "[encoded data removed]",
       "text": [
        "<matplotlib.figure.Figure at 0x112754e0>"
       ]
      }
     ],
     "prompt_number": 117
    },
    {
     "cell_type": "code",
     "collapsed": false,
     "input": [
      "plt.semilogy(xyz1[ind,0], -DpreMatR[:,0], 'k')\n",
      "plt.semilogy(xyz1[ind,0], -DpreMatR[:,1], 'b')\n",
      "plt.semilogy(xyz1[ind,0],-DpreMatR[:,2], 'r')\n",
      "plt.semilogy(xyz1[ind,0], -DobsLine[:,0,0,0], 'ko')\n",
      "plt.semilogy(xyz1[ind,0], -DobsLine[:,0,1,0], 'bo')\n",
      "plt.semilogy(xyz1[ind,0],-DobsLine[:,0,2,0], 'ro')"
     ],
     "language": "python",
     "metadata": {},
     "outputs": [
      {
       "metadata": {},
       "output_type": "pyout",
       "prompt_number": 131,
       "text": [
        "[<matplotlib.lines.Line2D at 0x152e50f0>]"
       ]
      },
      {
       "metadata": {},
       "output_type": "display_data",
       "png": "[encoded data removed]",
       "text": [
        "<matplotlib.figure.Figure at 0x14700550>"
       ]
      }
     ],
     "prompt_number": 131
    },
    {
     "cell_type": "code",
     "collapsed": false,
     "input": [
      "plt.semilogy(xyz1[ind,0], -DpreMatI[:,0], 'k')\n",
      "plt.semilogy(xyz1[ind,0], -DpreMatI[:,1], 'b')\n",
      "plt.semilogy(xyz1[ind,0],-DpreMatI[:,2], 'r')\n",
      "plt.semilogy(xyz1[ind,0], -DobsLine[:,1,0,0], 'ko')\n",
      "plt.semilogy(xyz1[ind,0], -DobsLine[:,1,1,0], 'bo')\n",
      "plt.semilogy(xyz1[ind,0],-DobsLine[:,1,2,0], 'ro')"
     ],
     "language": "python",
     "metadata": {},
     "outputs": [
      {
       "metadata": {},
       "output_type": "pyout",
       "prompt_number": 132,
       "text": [
        "[<matplotlib.lines.Line2D at 0x1530d438>]"
       ]
      },
      {
       "metadata": {},
       "output_type": "display_data",
       "png": "[encoded data removed]",
       "text": [
        "<matplotlib.figure.Figure at 0x14362400>"
       ]
      }
     ],
     "prompt_number": 132
    },
    {
     "cell_type": "code",
     "collapsed": false,
     "input": [
      "fig, ax = plt.subplots(1,2, figsize = (12, 5))\n",
      "vmin = np.log10(Utils.mkvc(SigMat).min())\n",
      "vmax = np.log10(Utils.mkvc(SigMat).max())\n",
      "ax[0].pcolor(X, Z, np.log10(SigMat), vmin = -3, vmax = -1)\n",
      "mesh3D.plotSlice(np.log10(sigma3D), ind = 20, normal='Y', ax = ax[1], clim=(-3, -1))\n",
      "for i in range(2):\n",
      "    ax[i].set_ylim(-700., -10.)\n",
      "    ax[i].set_xlim(-300., -10.)"
     ],
     "language": "python",
     "metadata": {},
     "outputs": [
      {
       "metadata": {},
       "output_type": "display_data",
       "png": "[encoded data removed]",
       "text": [
        "<matplotlib.figure.Figure at 0x14ffd438>"
       ]
      }
     ],
     "prompt_number": 136
    },
    {
     "cell_type": "code",
     "collapsed": false,
     "input": [],
     "language": "python",
     "metadata": {},
     "outputs": []
    }
   ],
   "metadata": {}
  }
 ]
}