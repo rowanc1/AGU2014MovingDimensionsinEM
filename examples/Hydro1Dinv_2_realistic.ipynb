{
 "metadata": {
  "name": "",
  "signature": "sha256:0cb0f67a492a8815db4538f7873c79bc029a0282d3d0cb60031b9eb40a0e92d8"
 },
 "nbformat": 3,
 "nbformat_minor": 0,
 "worksheets": [
  {
   "cells": [
    {
     "cell_type": "code",
     "collapsed": false,
     "input": [
      "from SimPEG import *\n",
      "import simpegEM as EM\n",
      "from simpegem1d import Utils1D\n",
      "%pylab inline"
     ],
     "language": "python",
     "metadata": {},
     "outputs": [
      {
       "output_type": "stream",
       "stream": "stdout",
       "text": [
        "Populating the interactive namespace from numpy and matplotlib\n"
       ]
      }
     ],
     "prompt_number": 2
    },
    {
     "cell_type": "code",
     "collapsed": false,
     "input": [
      "mesh3D = Utils.meshutils.readUBCTensorMesh('mesh.msh')\n",
      "sigma3D = Utils.meshutils.readUBCTensorModel('sigma_realistic.con', mesh3D)"
     ],
     "language": "python",
     "metadata": {},
     "outputs": [],
     "prompt_number": 3
    },
    {
     "cell_type": "code",
     "collapsed": false,
     "input": [
      "x2 = np.arange(30)*10 + 10.\n",
      "y2 = np.arange(30)*10 - 150.\n",
      "xyz2 = Utils.ndgrid(x2, y2, np.r_[0.])\n",
      "xc2 = 150\n",
      "yc2 = 0.\n",
      "r2 = np.sqrt((xyz2[:,0]-xc2)**2+(xyz2[:,1]-yc2)**2)"
     ],
     "language": "python",
     "metadata": {},
     "outputs": [],
     "prompt_number": 4
    },
    {
     "cell_type": "code",
     "collapsed": false,
     "input": [
      "dobs = np.load('bzobs_realistic.npy')\n",
      "Dobs = dobs.reshape((900, 31, 2), order='F')\n",
      "Dobs1 = Dobs[:,:,0]\n",
      "Dobs2 = Dobs[:,:,1]"
     ],
     "language": "python",
     "metadata": {},
     "outputs": [],
     "prompt_number": 5
    },
    {
     "cell_type": "code",
     "collapsed": false,
     "input": [
      "fig, ax = plt.subplots(1,2, figsize = (12, 5))\n",
      "ax[0].contourf(Dobs1)\n",
      "ax[1].contourf(Dobs2)"
     ],
     "language": "python",
     "metadata": {},
     "outputs": [
      {
       "metadata": {},
       "output_type": "pyout",
       "prompt_number": 6,
       "text": [
        "<matplotlib.contour.QuadContourSet instance at 0x000000000ADCF388>"
       ]
      },
      {
       "metadata": {},
       "output_type": "display_data",
       "png": "[encoded data removed]",
       "text": [
        "<matplotlib.figure.Figure at 0xa8cb390>"
       ]
      }
     ],
     "prompt_number": 6
    },
    {
     "cell_type": "code",
     "collapsed": false,
     "input": [
      "meshType = 'CYL'\n",
      "cs, ncx, ncz, npad = 20., 25, 30, 12\n",
      "hx = [(cs,ncx), (cs,npad,1.3)]\n",
      "hz = [(cs,npad,-1.4), (cs,ncz), (cs,npad,1.4)]\n",
      "mesh = Mesh.CylMesh([hx,1,hz], '00C')"
     ],
     "language": "python",
     "metadata": {},
     "outputs": [],
     "prompt_number": 7
    },
    {
     "cell_type": "code",
     "collapsed": false,
     "input": [
      "active = mesh.vectorCCz<0.\n",
      "layer1 = (mesh.vectorCCz<0.) & (mesh.vectorCCz>=-60.)\n",
      "layer2 = (mesh.vectorCCz<-60) & (mesh.vectorCCz>=-100.)\n",
      "layer3 = (mesh.vectorCCz<-100) & (mesh.vectorCCz>=-200.)\n",
      "actMap = Maps.ActiveCells(mesh, active, np.log(1e-8), nC=mesh.nCz)\n",
      "mapping = Maps.ExpMap(mesh) * Maps.Vertical1DMap(mesh) * actMap"
     ],
     "language": "python",
     "metadata": {},
     "outputs": [],
     "prompt_number": 8
    },
    {
     "cell_type": "code",
     "collapsed": false,
     "input": [
      "sig_half = 1e-3\n",
      "sig_air = 1e-8\n",
      "sig_layer1 = 1./300\n",
      "sig_layer2 = 1./100\n",
      "sig_layer3 = 1./10\n",
      "sigma = np.ones(mesh.nCz)*sig_air\n",
      "sigma[active] = sig_half\n",
      "sigma[layer1] = sig_layer1\n",
      "sigma[layer2] = sig_layer2\n",
      "sigma[layer3] = sig_layer3\n",
      "mtrue = np.log(sigma[active])"
     ],
     "language": "python",
     "metadata": {},
     "outputs": [],
     "prompt_number": 9
    },
    {
     "cell_type": "code",
     "collapsed": false,
     "input": [
      "def circfun(xc, yc, r, npoint):\n",
      "    theta = np.linspace(np.pi, -np.pi, npoint)\n",
      "    x = r*np.cos(theta)\n",
      "    y = r*np.sin(theta)\n",
      "    return x+xc, y+yc"
     ],
     "language": "python",
     "metadata": {},
     "outputs": [],
     "prompt_number": 10
    },
    {
     "cell_type": "code",
     "collapsed": false,
     "input": [
      "xcirc1, ycirc1 = circfun(-150., 0., 250., 60)\n",
      "xcirc2, ycirc2 = circfun(150., 0., 250., 60)"
     ],
     "language": "python",
     "metadata": {},
     "outputs": [],
     "prompt_number": 11
    },
    {
     "cell_type": "code",
     "collapsed": false,
     "input": [
      "ind = np.argwhere(xyz2[:,1]==0)"
     ],
     "language": "python",
     "metadata": {},
     "outputs": [],
     "prompt_number": 12
    },
    {
     "cell_type": "code",
     "collapsed": false,
     "input": [
      "fig, ax = plt.subplots(1,1, figsize=(7,3))\n",
      "indz = 20\n",
      "print mesh.vectorCCz[indz]\n",
      "mesh3D.plotSlice(np.log10(sigma3D), ind = indz, ax = ax, clim=(-3, -0.5))\n",
      "ax.plot(xyz2[:,0], xyz2[:,1], 'b.')\n",
      "ax.plot(xyz2[ind,0], xyz2[ind,1], 'k.', ms=10)\n",
      "# ax.plot(xyz2[:,0], xyz2[:,1], 'b.')\n",
      "# ax.plot(xcirc1, ycirc1, 'r-')\n",
      "ax.plot(xcirc2, ycirc2, 'b-')\n",
      "ax.set_xlim(-500, 500)\n",
      "ax.set_ylim(-300, 300)"
     ],
     "language": "python",
     "metadata": {},
     "outputs": [
      {
       "output_type": "stream",
       "stream": "stdout",
       "text": [
        "-130.0\n"
       ]
      },
      {
       "metadata": {},
       "output_type": "pyout",
       "prompt_number": 13,
       "text": [
        "(-300, 300)"
       ]
      },
      {
       "metadata": {},
       "output_type": "display_data",
       "png": "[encoded data removed]",
       "text": [
        "<matplotlib.figure.Figure at 0xb62ca20>"
       ]
      }
     ],
     "prompt_number": 13
    },
    {
     "cell_type": "code",
     "collapsed": false,
     "input": [
      "sig_test = (sigma[active])"
     ],
     "language": "python",
     "metadata": {},
     "outputs": [],
     "prompt_number": 14
    },
    {
     "cell_type": "code",
     "collapsed": false,
     "input": [
      "Sig_test = (sig_test.reshape([1,-1])).repeat(10, axis=0)\n",
      "x = xyz2[ind,0]\n",
      "z = mesh.vectorCCz[active]\n",
      "Z, X = np.meshgrid(z, x)"
     ],
     "language": "python",
     "metadata": {},
     "outputs": [],
     "prompt_number": 15
    },
    {
     "cell_type": "code",
     "collapsed": false,
     "input": [
      "time = np.logspace(-4, -2, 31)\n",
      "z = mesh.vectorCCz[active]\n",
      "Time, Xtime = np.meshgrid(time, x)"
     ],
     "language": "python",
     "metadata": {},
     "outputs": [],
     "prompt_number": 16
    },
    {
     "cell_type": "code",
     "collapsed": false,
     "input": [
      "# plt.pcolor(X, Z, np.log10(Sig_test))\n",
      "# plt.ylim()"
     ],
     "language": "python",
     "metadata": {},
     "outputs": [],
     "prompt_number": 17
    },
    {
     "cell_type": "code",
     "collapsed": false,
     "input": [
      "fig, ax = plt.subplots(1,1, figsize = (3, 6))\n",
      "Utils1D.plotLayer(sig_test, mesh.vectorCCz[active], showlayers=True, ax = ax)\n",
      "ax.set_ylim(-300., 0.)"
     ],
     "language": "python",
     "metadata": {},
     "outputs": [
      {
       "metadata": {},
       "output_type": "pyout",
       "prompt_number": 18,
       "text": [
        "(-300.0, 0.0)"
       ]
      },
      {
       "metadata": {},
       "output_type": "display_data",
       "png": "[encoded data removed]",
       "text": [
        "<matplotlib.figure.Figure at 0xb7251d0>"
       ]
      }
     ],
     "prompt_number": 18
    },
    {
     "cell_type": "code",
     "collapsed": false,
     "input": [
      "prb = EM.TDEM.ProblemTDEM_b(mesh, mapping=mapping, verbose=False)"
     ],
     "language": "python",
     "metadata": {},
     "outputs": [],
     "prompt_number": 19
    },
    {
     "cell_type": "code",
     "collapsed": false,
     "input": [
      "prb.Solver = SolverLU\n",
      "prb.timeSteps = [(1e-4/10, 15), (1e-3/10, 15), (1e-2/10, 15), (1e-1/10, 15)]"
     ],
     "language": "python",
     "metadata": {},
     "outputs": [],
     "prompt_number": 20
    },
    {
     "cell_type": "code",
     "collapsed": false,
     "input": [
      "# Mopt = []\n",
      "# Dest=[]\n",
      "# for i in range(Dobs2[ind,:].shape[0]):\n",
      "# # for i in range(1):\n",
      "#     rxoffset=r2[ind][i]\n",
      "#     time = np.logspace(-4, -2, 31)\n",
      "#     rx = EM.TDEM.RxTDEM(np.array([[rxoffset, 0., 0.]]), time, 'bz')\n",
      "#     tx = EM.TDEM.TxTDEM(np.array([0., 0., 0.]), 'CircularLoop_MVP', [rx])\n",
      "#     tx.radius = 250.\n",
      "#     survey = EM.TDEM.SurveyTDEM([tx])\n",
      "#     if prb.ispaired:\n",
      "#         prb.unpair()\n",
      "#     if survey.ispaired:\n",
      "#         survey.unpair()\n",
      "#     prb.pair(survey)\n",
      "#     std = 0.2\n",
      "#     survey.dobs = Utils.mkvc(Dobs2[ind,:][i,:])\n",
      "#     survey.std = survey.dobs*0 + std\n",
      "#     dmisfit = DataMisfit.l2_DataMisfit(survey)\n",
      "#     dmisfit.Wd = 1/(abs(survey.dobs)*std)\n",
      "#     regMesh = Mesh.TensorMesh([mesh.hz[mapping.maps[-1].indActive]])\n",
      "#     reg = Regularization.Tikhonov(regMesh)\n",
      "#     opt = Optimization.InexactGaussNewton(maxIter = 5)\n",
      "#     invProb = InvProblem.BaseInvProblem(dmisfit, reg, opt)\n",
      "#     # Create an inversion object\n",
      "#     beta = Directives.BetaSchedule(coolingFactor=5, coolingRate=2)\n",
      "#     betaest = Directives.BetaEstimate_ByEig(beta0_ratio=1e0)\n",
      "#     inv = Inversion.BaseInversion(invProb, directiveList=[beta,betaest])\n",
      "#     m0 = np.log(np.ones(mtrue.size)*2e-3)\n",
      "#     reg.alpha_s = 1e-2\n",
      "#     reg.alpha_x = 1.\n",
      "#     prb.counter = opt.counter = Utils.Counter()\n",
      "#     opt.LSshorten = 0.5\n",
      "#     opt.remember('xc')\n",
      "#     mopt = inv.run(m0)\n",
      "#     Mopt.append(mopt)\n",
      "#     Dest.append(invProb.dpred)"
     ],
     "language": "python",
     "metadata": {},
     "outputs": [],
     "prompt_number": 21
    },
    {
     "cell_type": "code",
     "collapsed": false,
     "input": [
      "# np.save('Mopt2', Mopt)\n",
      "# np.save('Dest2', Dest)"
     ],
     "language": "python",
     "metadata": {},
     "outputs": [],
     "prompt_number": 22
    },
    {
     "cell_type": "code",
     "collapsed": false,
     "input": [
      "Mopt = np.load('Mopt2.npy')\n",
      "Dest = np.load('Dest2.npy')"
     ],
     "language": "python",
     "metadata": {},
     "outputs": [],
     "prompt_number": 23
    },
    {
     "cell_type": "code",
     "collapsed": false,
     "input": [
      "# fig, ax = plt.subplots(1,1, figsize = (3, 6))\n",
      "# Utils1D.plotLayer(np.exp(mopt), mesh.vectorCCz[active], showlayers=True, ax = ax)\n",
      "# ax.set_ylim(-300., 0.)"
     ],
     "language": "python",
     "metadata": {},
     "outputs": [],
     "prompt_number": 24
    },
    {
     "cell_type": "code",
     "collapsed": false,
     "input": [
      "SigMat = np.exp(np.vstack(Mopt))\n",
      "DpreMat = np.vstack(Dest)"
     ],
     "language": "python",
     "metadata": {},
     "outputs": [],
     "prompt_number": 25
    },
    {
     "cell_type": "code",
     "collapsed": false,
     "input": [
      "fig, ax = plt.subplots(1,2, figsize = (12, 5))\n",
      "vmin = np.log10(Utils.mkvc(SigMat).min())\n",
      "vmax = np.log10(Utils.mkvc(SigMat).max())\n",
      "ax[0].contourf(X, Z, np.log10(SigMat), 31, vmin = -3, vmax = -0.5)\n",
      "mesh3D.plotSlice(np.log10(sigma3D), ind = 20, normal='Y', ax = ax[1], clim=(-3, np.log10(1./5)))\n",
      "for i in range(2):\n",
      "    ax[i].set_ylim(-700., 0.)\n",
      "    ax[i].set_xlim(10., 300.)"
     ],
     "language": "python",
     "metadata": {},
     "outputs": [
      {
       "metadata": {},
       "output_type": "display_data",
       "png": "[encoded data removed]",
       "text": [
        "<matplotlib.figure.Figure at 0xbf36438>"
       ]
      }
     ],
     "prompt_number": 29
    },
    {
     "cell_type": "code",
     "collapsed": false,
     "input": [
      "DobsMat = Utils.mkvc(Dobs2[ind, :]).reshape((30, 31), order='F')"
     ],
     "language": "python",
     "metadata": {},
     "outputs": [],
     "prompt_number": 27
    },
    {
     "cell_type": "code",
     "collapsed": false,
     "input": [
      "\n",
      "fig, ax = plt.subplots(1,2, figsize = (12, 5))\n",
      "vmin = np.log10(Utils.mkvc(DpreMat).min())\n",
      "vmax = np.log10(Utils.mkvc(DpreMat).max())\n",
      "ax[0].pcolor(Xtime, np.log10(Time), np.log10(DobsMat), vmin = vmin, vmax = vmax)\n",
      "ax[1].pcolor(Xtime, np.log10(Time), np.log10(DpreMat), vmin = vmin, vmax = vmax)"
     ],
     "language": "python",
     "metadata": {},
     "outputs": [
      {
       "metadata": {},
       "output_type": "pyout",
       "prompt_number": 28,
       "text": [
        "<matplotlib.collections.PolyCollection at 0xbf1d0b8>"
       ]
      },
      {
       "metadata": {},
       "output_type": "display_data",
       "png": "[encoded data removed]",
       "text": [
        "<matplotlib.figure.Figure at 0xc2349b0>"
       ]
      }
     ],
     "prompt_number": 28
    },
    {
     "cell_type": "code",
     "collapsed": false,
     "input": [],
     "language": "python",
     "metadata": {},
     "outputs": [],
     "prompt_number": 28
    }
   ],
   "metadata": {}
  }
 ]
}